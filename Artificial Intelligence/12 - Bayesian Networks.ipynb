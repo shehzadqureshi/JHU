{
 "metadata": {
  "name": "",
  "signature": "sha256:180575834ecc1ed6cef910b54da535b9e7a3d7e94253de99ed85fe33919d87a8"
 },
 "nbformat": 3,
 "nbformat_minor": 0,
 "worksheets": [
  {
   "cells": [
    {
     "cell_type": "markdown",
     "metadata": {},
     "source": [
      "Module 12 - Programming Assignment\n",
      "=\n",
      "This is the notebook for the Module 10 Programming Assignment.\n",
      "\n",
      "Here are a few tips for using the iPython HTML notebook:\n",
      "\n",
      "1.  You can use tab . Try le<&lt;tab> and see the available functions.\n",
      "2.  You can change the type of cell by picking \"Code\" or \"Markdown\" from the menu at the left.\n",
      "3.  If you keep typing in a Markdown text area, you will eventually get scroll bars. To prevent this, hit return when you come to\n",
      "the end of the window. Only a double return creates a new paragraph.\n",
      "4.  You can find out more about Markdown text here: http://daringfireball.net/projects/markdown/ (Copy this link and put it \n",
      "in another tab for reference--Don't click it or you'll leave your notebook!).\n",
      "5.  Every so often, restart the kernel, clear all output and run all code cells so you can be certain that you didn't\n",
      "define something out of order.\n",
      "\n",
      "**You should rename this notebook to be &lt;your JHED id>_PR12\\.ipynb** Do it right now.\n",
      "\n",
      "**Make certain the entire notebook executes before you submit it.** (See Hint #5 above)\n",
      "\n",
      "Change the following variables:"
     ]
    },
    {
     "cell_type": "code",
     "collapsed": true,
     "input": [
      "name = \"Shehzad Qureshi\"\n",
      "jhed_id = \"squresh6\"\n",
      "if name == \"Student Name\" or jhed_id == \"sname1\":\n",
      "    raise Exception( \"Change the name and/or JHED ID...preferrably to yours.\")"
     ],
     "language": "python",
     "metadata": {},
     "outputs": [],
     "prompt_number": 1
    },
    {
     "cell_type": "markdown",
     "metadata": {},
     "source": [
      "Add whatever additional imports you require here. Stick with the standard libraries and those required by the class. The import\n",
      "gives you access to these functions: http://ipython.org/ipython-doc/stable/api/generated/IPython.core.display.html (Copy this link)\n",
      "Which, among other things, will permit you to display HTML as the result of evaluated code (see HTML() or display_html())."
     ]
    },
    {
     "cell_type": "code",
     "collapsed": true,
     "input": [
      "from IPython.core.display import *\n",
      "from StringIO import StringIO\n",
      "import numpy as np\n",
      "from pprint import pprint"
     ],
     "language": "python",
     "metadata": {},
     "outputs": [],
     "prompt_number": 2
    },
    {
     "cell_type": "markdown",
     "metadata": {},
     "source": [
      "In this assignment you will be using the mushroom data from the Decision Tree module:\n",
      "\n",
      "http://archive.ics.uci.edu/ml/datasets/Mushroom\n",
      "\n",
      "The assignment is to program a Naive Bayes Classifier for this data. You'll first need to calculate all of the necessary probabilities (don't forget to use +1 smoothing). You'll then need to have a classify() function that takes an unlabeled instance and returns the normalized probability distribution over the possible classes.\n",
      "\n",
      "Which classifier do you prefer for this problem...the decision tree or the naive bayes classifier? Why?"
     ]
    },
    {
     "cell_type": "markdown",
     "metadata": {},
     "source": [
      "##Naive Bayes Classifier##\n",
      "\n",
      "We will now implement a Naive Bayes Classifier and run the classifier against the same Mushroom dataset as we did for the Decision Tree.\n",
      "\n",
      "We're going to load the dataset beforehand because we will need it for testing."
     ]
    },
    {
     "cell_type": "code",
     "collapsed": false,
     "input": [
      "data = np.loadtxt('agaricus-lepiota.data', delimiter=',', dtype='S1')"
     ],
     "language": "python",
     "metadata": {},
     "outputs": [],
     "prompt_number": 3
    },
    {
     "cell_type": "markdown",
     "metadata": {},
     "source": [
      "We need to be able to determine all domain values of a particular variable."
     ]
    },
    {
     "cell_type": "code",
     "collapsed": false,
     "input": [
      "def get_domain_values(data, col):\n",
      "    d = np.unique(data[:, col])\n",
      "    return d"
     ],
     "language": "python",
     "metadata": {},
     "outputs": [],
     "prompt_number": 4
    },
    {
     "cell_type": "code",
     "collapsed": false,
     "input": [
      "print get_domain_values(data, 0) == ['e', 'p']"
     ],
     "language": "python",
     "metadata": {},
     "outputs": [
      {
       "output_type": "stream",
       "stream": "stdout",
       "text": [
        "[ True  True]\n"
       ]
      }
     ],
     "prompt_number": 5
    },
    {
     "cell_type": "markdown",
     "metadata": {},
     "source": [
      "Now we need to be able to count the number of values for a particular variable. We also give the option to calculate the number of values given a particular label."
     ]
    },
    {
     "cell_type": "code",
     "collapsed": false,
     "input": [
      "def get_domain_value_count(data, col, value, ycolumn=None, yvalue=None):\n",
      "    vals = (data[:, col] == value)\n",
      "    count = vals.sum()\n",
      "    if ycolumn is None or yvalue is None:\n",
      "        return count\n",
      "    yvals = (data[:, ycolumn] == yvalue)\n",
      "    count = np.logical_and(vals, yvals).sum()\n",
      "    return count"
     ],
     "language": "python",
     "metadata": {},
     "outputs": [],
     "prompt_number": 6
    },
    {
     "cell_type": "code",
     "collapsed": false,
     "input": [
      "print get_domain_value_count(data, 0, 'e') == 4208\n",
      "print get_domain_value_count(data, 0, 'p') == 3916\n",
      "print get_domain_value_count(data, 1, 'x', 0, 'e') == 1948"
     ],
     "language": "python",
     "metadata": {},
     "outputs": [
      {
       "output_type": "stream",
       "stream": "stdout",
       "text": [
        "True\n",
        "True\n",
        "True\n"
       ]
      }
     ],
     "prompt_number": 7
    },
    {
     "cell_type": "markdown",
     "metadata": {},
     "source": [
      "This is a method for counting the number of entries in a particular column."
     ]
    },
    {
     "cell_type": "code",
     "collapsed": false,
     "input": [
      "def get_column_count(data, col):\n",
      "    vals = data[:,col]\n",
      "    count = len(vals)\n",
      "    return count"
     ],
     "language": "python",
     "metadata": {},
     "outputs": [],
     "prompt_number": 8
    },
    {
     "cell_type": "code",
     "collapsed": false,
     "input": [
      "get_column_count(data, 1) == 8124"
     ],
     "language": "python",
     "metadata": {},
     "outputs": [
      {
       "metadata": {},
       "output_type": "pyout",
       "prompt_number": 9,
       "text": [
        "True"
       ]
      }
     ],
     "prompt_number": 9
    },
    {
     "cell_type": "markdown",
     "metadata": {},
     "source": [
      "Now we need a method to calculate our probabilities. We will use the following formulas:\n",
      "\n",
      "$P(label = e) = \\frac {\\# label = e}{\\# labels}$\n",
      "\n",
      "and\n",
      "\n",
      "$P(attrib = x | label = e) = \\frac{\\#attrib = x ~and~ label = e + 1}{\\# labels = e + 1}$\n",
      "\n",
      "We add a value of 1 to the count for the latter formula for smoothing, and to prevent multiplication by 0."
     ]
    },
    {
     "cell_type": "code",
     "collapsed": false,
     "input": [
      "def calc_probability(data, col, value, ycolumn=None, yvalue=None):\n",
      "    num_vals = get_domain_value_count(data, col, value)\n",
      "    num_total = get_column_count(data, col)\n",
      "    val_prob = float(num_vals) / (num_total)\n",
      "    if ycolumn is None or yvalue is None:\n",
      "        return val_prob\n",
      "    num_vals = get_domain_value_count(data, col, value, ycolumn, yvalue)\n",
      "    num_yvals = get_domain_value_count(data, ycolumn, yvalue)\n",
      "    val_prob = float(num_vals + 1) / float(num_yvals + 1)\n",
      "    return val_prob"
     ],
     "language": "python",
     "metadata": {},
     "outputs": [],
     "prompt_number": 10
    },
    {
     "cell_type": "code",
     "collapsed": false,
     "input": [
      "print calc_probability(data, 0, 'e') == 4208/8124.\n",
      "print calc_probability(data, 1, 'x', 0, 'e') == 1949/4209."
     ],
     "language": "python",
     "metadata": {},
     "outputs": [
      {
       "output_type": "stream",
       "stream": "stdout",
       "text": [
        "True\n",
        "True\n"
       ]
      }
     ],
     "prompt_number": 11
    },
    {
     "cell_type": "markdown",
     "metadata": {},
     "source": [
      "We're going to precalculate our probability table to save us from doing it over and over again. The output will be a list of dictionaries, with each dictionary element having a dictionary of the probability of each label. We pass in the domain values here because cross-validation tends to divide the dataset which may result in some domains not showing up in the training set."
     ]
    },
    {
     "cell_type": "code",
     "collapsed": false,
     "input": [
      "def get_probability_table(data, domains):\n",
      "    probs = []\n",
      "    yvals = domains[0]\n",
      "    probs.append({value : calc_probability(data, 0, value) for value in domains[0]})\n",
      "    for i in range(1,len(data[0])):\n",
      "        probs.append ({value : {yvalue : calc_probability(data, i, value, 0, yvalue) for yvalue in yvals} \n",
      "             for value in domains[i]})\n",
      "    return probs"
     ],
     "language": "python",
     "metadata": {},
     "outputs": [],
     "prompt_number": 12
    },
    {
     "cell_type": "code",
     "collapsed": false,
     "input": [
      "domains = [get_domain_values(data, i) for i in xrange(len(data[0]))]\n",
      "%time probs = get_probability_table(data, domains)\n",
      "pprint(probs[0])\n",
      "pprint(probs[1])"
     ],
     "language": "python",
     "metadata": {},
     "outputs": [
      {
       "output_type": "stream",
       "stream": "stdout",
       "text": [
        "Wall time: 344 ms\n",
        "{'e': 0.517971442639094, 'p': 0.48202855736090594}\n",
        "{'b': {'e': 0.0962223806129722, 'p': 0.012509573653306101},\n",
        " 'c': {'e': 0.00023758612497030174, 'p': 0.0012764871074802144},\n",
        " 'f': {'e': 0.37942504157757184, 'p': 0.3974980852693388},\n",
        " 'k': {'e': 0.054407222618199094, 'p': 0.15343375031912176},\n",
        " 's': {'e': 0.007840342124019958, 'p': 0.0002552974214960429},\n",
        " 'x': {'e': 0.4630553575671181, 'p': 0.4363032933367373}}\n"
       ]
      }
     ],
     "prompt_number": 13
    },
    {
     "cell_type": "markdown",
     "metadata": {},
     "source": [
      "This function will calculate the probability of an example given a specific class label. The formula is as follows:\n",
      "\n",
      "$label = p(c) \\cdot \\prod_{i,j} p(a_i = v_j | c)$\n",
      "\n",
      "where $c, a, v$ are the class label, attribute and attribute value respectively."
     ]
    },
    {
     "cell_type": "code",
     "collapsed": false,
     "input": [
      "def probability_of(probs, instance, label):\n",
      "    probability = probs[0][label] * np.product(np.array([probs[i+1][instance[i]][label] for i in xrange(len(instance))]))\n",
      "    return probability"
     ],
     "language": "python",
     "metadata": {},
     "outputs": [],
     "prompt_number": 14
    },
    {
     "cell_type": "markdown",
     "metadata": {},
     "source": [
      "We will need to normalize the results so that they add up to 1."
     ]
    },
    {
     "cell_type": "code",
     "collapsed": false,
     "input": [
      "def normalize(results, labels):\n",
      "    total = np.sum(np.array([results[label] for label in labels]))\n",
      "    r = {label : results[label]/total for label in labels}\n",
      "    return r"
     ],
     "language": "python",
     "metadata": {},
     "outputs": [],
     "prompt_number": 15
    },
    {
     "cell_type": "markdown",
     "metadata": {},
     "source": [
      "We will need to determine the best label from the probabilities returned. This is as simple as taking the maximum value of all labels."
     ]
    },
    {
     "cell_type": "code",
     "collapsed": false,
     "input": [
      "def find_best(results, labels):\n",
      "    tmp = [(results[label], label) for label in labels]\n",
      "    return sorted(tmp, reverse=True)[0][1]"
     ],
     "language": "python",
     "metadata": {},
     "outputs": [],
     "prompt_number": 16
    },
    {
     "cell_type": "markdown",
     "metadata": {},
     "source": [
      "This is our simple Naive Bayes Classification function. It calculates the probabilities of every label for the given example and returns the best one (along with all the results)."
     ]
    },
    {
     "cell_type": "code",
     "collapsed": false,
     "input": [
      "def classify(probs, instance, labels=['e', 'p']):\n",
      "    results = {label : probability_of(probs, instance, label) for label in labels}\n",
      "    results = normalize(results, labels)\n",
      "    best = find_best(results, labels)\n",
      "    return (best, results)"
     ],
     "language": "python",
     "metadata": {},
     "outputs": [],
     "prompt_number": 17
    },
    {
     "cell_type": "code",
     "collapsed": false,
     "input": [
      "i = np.random.randint(0, len(data))\n",
      "print i, data[i][0]\n",
      "classify(probs, data[i][1:])"
     ],
     "language": "python",
     "metadata": {},
     "outputs": [
      {
       "output_type": "stream",
       "stream": "stdout",
       "text": [
        "1826 e\n"
       ]
      },
      {
       "metadata": {},
       "output_type": "pyout",
       "prompt_number": 18,
       "text": [
        "('e', {'e': 0.99999997411017272, 'p': 2.5889827185035588e-08})"
       ]
      }
     ],
     "prompt_number": 18
    },
    {
     "cell_type": "markdown",
     "metadata": {},
     "source": [
      "###Cross Validation###\n",
      "\n",
      "We'll use the same methodology as we did with Decision Trees to determine the error.\n",
      "\n",
      "First we need to partition the data into folds."
     ]
    },
    {
     "cell_type": "code",
     "collapsed": false,
     "input": [
      "def partition(dataset, fold, k):\n",
      "    segments = np.array_split(dataset, k)\n",
      "    test = segments[fold-1]\n",
      "    training = [segments[i] for i in xrange(k) if i != (fold-1)]\n",
      "    return np.concatenate(training), test"
     ],
     "language": "python",
     "metadata": {},
     "outputs": [],
     "prompt_number": 19
    },
    {
     "cell_type": "markdown",
     "metadata": {},
     "source": [
      "Now we'll have to split the data into examples without the label."
     ]
    },
    {
     "cell_type": "code",
     "collapsed": false,
     "input": [
      "def split_data(dataset):\n",
      "    x = dataset[:,1:]\n",
      "    y = dataset[:,0]\n",
      "    return x, y"
     ],
     "language": "python",
     "metadata": {},
     "outputs": [],
     "prompt_number": 20
    },
    {
     "cell_type": "markdown",
     "metadata": {},
     "source": [
      "This is our cross-validation function. It splits the dataset into a training and validation set and calculates the probability table with the training set and tests it against the test set. The output is a tuple of truth and test results which will be used later for statistical analysis."
     ]
    },
    {
     "cell_type": "code",
     "collapsed": false,
     "input": [
      "def cross_validation(dataset, folds=10):\n",
      "    output = []\n",
      "    domains = [get_domain_values(data, i) for i in xrange(len(data[0]))]\n",
      "    for i in xrange(1, folds+1):\n",
      "        training_set, test_set = partition(dataset, i, folds)\n",
      "        probs = get_probability_table(training_set, domains)\n",
      "        x, y = split_data(test_set)\n",
      "        y_h = np.array([classify(probs, xval) for xval in x])\n",
      "        output.append((y, y_h))\n",
      "    return output"
     ],
     "language": "python",
     "metadata": {},
     "outputs": [],
     "prompt_number": 21
    },
    {
     "cell_type": "markdown",
     "metadata": {},
     "source": [
      "We'll need a way to print out our confusion matrix."
     ]
    },
    {
     "cell_type": "code",
     "collapsed": false,
     "input": [
      "def confusion_matrix(y, y_h, pos, neg):\n",
      "    total = len(y)\n",
      "    tp = np.logical_and((y == pos), (y_h == pos)).sum()\n",
      "    tn = np.logical_and((y == neg), (y_h == neg)).sum()\n",
      "    fp = np.logical_and((y == pos), (y_h == neg)).sum()\n",
      "    fn = np.logical_and((y == neg), (y_h == pos)).sum()\n",
      "    return tp, tn, fp, fn"
     ],
     "language": "python",
     "metadata": {},
     "outputs": [],
     "prompt_number": 22
    },
    {
     "cell_type": "code",
     "collapsed": false,
     "input": [
      "def print_confusion_matrix(tp, tn, fp, fn, pos, neg):\n",
      "    html = '''\n",
      "    <table>\n",
      "    <tr><td> </td><td>{0}</td><td>{1}</td></tr>\n",
      "    <tr><td>{2}</td><td>{3}</td><td>{4}</td></tr>\n",
      "    <tr><td>{5}</td><td>{6}</td><td>{7}</td></tr>\n",
      "    '''.format(pos, neg, pos, tp, fp, neg, fn, tn)\n",
      "    h = HTML(html)\n",
      "    return h"
     ],
     "language": "python",
     "metadata": {},
     "outputs": [],
     "prompt_number": 23
    },
    {
     "cell_type": "markdown",
     "metadata": {},
     "source": [
      "Along with the confusion matrix we will print out some stats."
     ]
    },
    {
     "cell_type": "code",
     "collapsed": false,
     "input": [
      "def print_test_stats(total, tp, tn, fp, fn):\n",
      "    accuracy = (tp + tn)/float(total)\n",
      "    error = (fn + fp)/float(total)\n",
      "    precision = float(tp)/(tp + fp)\n",
      "    recall = float(tp)/(tp + fn)\n",
      "    classified = tp + tn + fp + fn\n",
      "    print \"total:\", total\n",
      "    print \"total classified: {0} ({1:.3%})\".format(classified, classified/float(total))\n",
      "    print \"total unclassified: {0} ({1:.3%})\".format(total - classified,  (total - classified)/float(total))\n",
      "    print \"accuracy: {0:.3%}\".format(accuracy)\n",
      "    print \"error: {0:.3%}\".format(error)\n",
      "    print \"precision: {0:.3%}\".format(precision)\n",
      "    print \"recall: {0:.3%}\".format(recall)"
     ],
     "language": "python",
     "metadata": {},
     "outputs": [],
     "prompt_number": 24
    },
    {
     "cell_type": "markdown",
     "metadata": {},
     "source": [
      "Now we'll do our 10-fold cross-validation test."
     ]
    },
    {
     "cell_type": "code",
     "collapsed": false,
     "input": [
      "dataset = np.loadtxt('agaricus-lepiota.data', delimiter=',', dtype='S1')\n",
      "np.random.shuffle(dataset)\n",
      "%time output = cross_validation(dataset)"
     ],
     "language": "python",
     "metadata": {},
     "outputs": [
      {
       "output_type": "stream",
       "stream": "stdout",
       "text": [
        "Wall time: 4.66 s\n"
       ]
      }
     ],
     "prompt_number": 25
    },
    {
     "cell_type": "markdown",
     "metadata": {},
     "source": [
      "and print out the results."
     ]
    },
    {
     "cell_type": "code",
     "collapsed": false,
     "input": [
      "cm = np.array([confusion_matrix(y, y_h[:,0], 'p', 'e') for y, y_h in output])\n",
      "tp, tn, fp, fn = cm.sum(axis=0)\n",
      "total = 0\n",
      "for _, y_h in output:\n",
      "    total += len(y_h)\n",
      "print_test_stats(total, tp, tn, fp, fn)\n",
      "print_confusion_matrix(tp, tn, fp, fn, 'p', 'e')"
     ],
     "language": "python",
     "metadata": {},
     "outputs": [
      {
       "output_type": "stream",
       "stream": "stdout",
       "text": [
        "total: 8124\n",
        "total classified: 8124 (100.000%)\n",
        "total unclassified: 0 (0.000%)\n",
        "accuracy: 95.507%\n",
        "error: 4.493%\n",
        "precision: 91.216%\n",
        "recall: 99.416%\n"
       ]
      },
      {
       "html": [
        "\n",
        "    <table>\n",
        "    <tr><td> </td><td>p</td><td>e</td></tr>\n",
        "    <tr><td>p</td><td>3572</td><td>344</td></tr>\n",
        "    <tr><td>e</td><td>21</td><td>4187</td></tr>\n",
        "    "
       ],
       "metadata": {},
       "output_type": "pyout",
       "prompt_number": 26,
       "text": [
        "<IPython.core.display.HTML at 0x35fafd0>"
       ]
      }
     ],
     "prompt_number": 26
    },
    {
     "cell_type": "markdown",
     "metadata": {},
     "source": [
      "##Summary##\n",
      "\n",
      "Unlike Decision Trees, Naive Bayes Classification uses probability theory to determine classification labels. It's called \"Naive\" because it makes the assumption that all variables are independent, which in reality is not the case. But even though it makes this assumption it still performs relatively well as seen above.\n",
      "\n",
      "I decided to take a stab of using a Random Forest implementation to see if I could reduce the error rate. Besides the fact that a 100-forest test ran for 17 minutes, the results showed no improvement whatsoever. I will presume that the reason for this is because the probability distribution is roughly the same for each tree in the forest. If this is the case then it makes sense that a forest did not show any improvement whatsoever."
     ]
    },
    {
     "cell_type": "code",
     "collapsed": false,
     "input": [],
     "language": "python",
     "metadata": {},
     "outputs": [],
     "prompt_number": 26
    }
   ],
   "metadata": {}
  }
 ]
}