{
 "metadata": {
  "name": "",
  "signature": "sha256:2a7c14ae80d8f10ec1a7344e72b43460cf02c7a52b29ecde09cd5eb1386c4dd7"
 },
 "nbformat": 3,
 "nbformat_minor": 0,
 "worksheets": [
  {
   "cells": [
    {
     "cell_type": "markdown",
     "metadata": {},
     "source": [
      "#Module 11 - Programming Assignment\n",
      "This is the notebook for the Module 11 Programming Assignment.\n",
      "\n",
      "Here are a few tips for using the iPython HTML notebook:\n",
      "\n",
      "1.  You can use tab . Try le<&lt;tab> and see the available functions.\n",
      "2.  You can change the type of cell by picking \"Code\" or \"Markdown\" from the menu at the left.\n",
      "3.  If you keep typing in a Markdown text area, you will eventually get scroll bars. To prevent this, hit return when you come to\n",
      "the end of the window. Only a double return creates a new paragraph.\n",
      "4.  You can find out more about Markdown text here: http://daringfireball.net/projects/markdown/ (Copy this link and put it \n",
      "in another tab for reference--Don't click it or you'll leave your notebook!).\n",
      "5.  Every so often, restart the kernel, clear all output and run all code cells so you can be certain that you didn't\n",
      "define something out of order.\n",
      "\n",
      "**You should rename this notebook to be &lt;your JHED id>_PR11\\.ipynb** Do it right now.\n",
      "\n",
      "**Make certain the entire notebook executes before you submit it.** (See Hint #5 above)\n",
      "\n",
      "Change the following variables:"
     ]
    },
    {
     "cell_type": "code",
     "collapsed": true,
     "input": [
      "name = \"Shehzad Qureshi\"\n",
      "jhed_id = \"squresh6\"\n",
      "if name == \"Student Name\" or jhed_id == \"sname1\":\n",
      "    raise Exception( \"Change the name and/or JHED ID...preferrably to yours.\")"
     ],
     "language": "python",
     "metadata": {},
     "outputs": [],
     "prompt_number": 1
    },
    {
     "cell_type": "markdown",
     "metadata": {},
     "source": [
      "Add whatever additional imports you require here. Stick with the standard libraries and those required by the class. The import\n",
      "gives you access to these functions: http://ipython.org/ipython-doc/stable/api/generated/IPython.core.display.html (Copy this link)\n",
      "Which, among other things, will permit you to display HTML as the result of evaluated code (see HTML() or display_html())."
     ]
    },
    {
     "cell_type": "code",
     "collapsed": true,
     "input": [
      "from IPython.core.display import *\n",
      "from StringIO import StringIO\n",
      "import numpy as np\n",
      "from operator import itemgetter\n",
      "from copy import deepcopy"
     ],
     "language": "python",
     "metadata": {},
     "outputs": [],
     "prompt_number": 2
    },
    {
     "cell_type": "markdown",
     "metadata": {},
     "source": [
      "For this assignment you will be implementing and evaluating a Decision Tree using the ID3 Algorithm (**no** pruning or normalized information gain). Use the provided pseudocode. This time you will need to fetch and parse the data yourself (although go ahead and look at the parse_data.py code from the previous assignments). The data is located at (copy link):\n",
      "\n",
      "http://archive.ics.uci.edu/ml/datasets/Mushroom\n",
      "\n",
      "You can download the two files and read them to find out the attributes, attribute values and class labels as well as their locations in the file.\n",
      "\n",
      "One of the things we did not talk about in the lectures was how to deal with missing values. In C4.5, missing values were handled by treating \"?\" as an implicit attribute value for every attribute. For example, if the attribute was \"size\" then the domain would be [\"small\", \"medium\", \"large\", \"?\"]. Another approach is to skip instances with missing values. Yet another approach is to infer the missing value conditioned on the class. For example, if the class is \"safe\" and the color is missing, then we would infer the attribute value that is most often associated with \"safe\", perhaps \"red\". Pick an approach and implement it.\n",
      "\n",
      "You should do 10 fold cross-validation and average your performance metric and show the standard deviation. Is accuracy the best performance metric for this problem? Hint: if we take poisonous == 1, then are false positives and false negatives equally important or do we care more about one than the other?\n",
      "\n",
      "The implementation is left up to you (procedural or OOP) but you must provide a function that trains a Decision Tree from training data and provide a function that classifies a new instance given a Decision Tree.\n",
      "\n",
      "Extra kudos if you can print your decision tree as ASCII or using NetworkX.\n",
      "\n",
      "**Don't forget to close with a section on what you learned from this Module**"
     ]
    },
    {
     "cell_type": "markdown",
     "metadata": {},
     "source": [
      "##Decision Trees##\n",
      "\n",
      "We will use the above dataset to train our ID3 algorithm to output a decision tree. We will then analyze the performance of our decision tree using _k_-fold cross-evaluation.\n",
      "\n",
      "To start with, we ned to define our concept of the Decision Tree. We shall break the rules a bit and use a class since they are a bit easier to deal with.\n",
      "\n",
      "Our Node class shall act as both the root node and a child node. It can store the name of the node (attribute or feature), value (classification label), or hold other nodes as a subtree.\n",
      "\n",
      "There are two methods, getLeaf(), which returns a leaf node with values if it exists, and getSubtree(), which gets a specified subtree if it exists."
     ]
    },
    {
     "cell_type": "code",
     "collapsed": false,
     "input": [
      "class Node(object):\n",
      "    def __init__(self, name, value=None, subtree=None):\n",
      "        self.name, self.children, self.value, self.subtree = name, [], value, subtree\n",
      "    def addChild(self, child, value=None):\n",
      "        self.children.append(child)\n",
      "    def getLeaf(self, leaf):\n",
      "        for c in self.children: \n",
      "            if c.name == leaf: \n",
      "                return c\n",
      "        return None\n",
      "    def getSubtree(self, subtree):\n",
      "        result = [x for x in self.children if x.value is None and len(x.children) > 0 and x.subtree == subtree]\n",
      "        return result[0] if len(result) > 0 else None"
     ],
     "language": "python",
     "metadata": {},
     "outputs": [],
     "prompt_number": 3
    },
    {
     "cell_type": "markdown",
     "metadata": {},
     "source": [
      "We need to be able to print out the tree for debugging and output purposes. The main function is **print_tree_ascii** which takes a tree and prints it out. Helper functions **print_value** parses the domains or classification labels, and **tree_walk** performs a recursive walk from the root to each node."
     ]
    },
    {
     "cell_type": "code",
     "collapsed": false,
     "input": [
      "def print_value(value):\n",
      "    if type(value) == list:\n",
      "        return ', '.join([print_value(x) for x in value])\n",
      "    if type(value) == tuple:\n",
      "        return ' - '.join([str(x) for x in value])\n",
      "    else: return value"
     ],
     "language": "python",
     "metadata": {},
     "outputs": [],
     "prompt_number": 4
    },
    {
     "cell_type": "code",
     "collapsed": false,
     "input": [
      "def tree_walk(tree, level=0):\n",
      "    ret = '{0}{1} : '.format('    '*level, str(tree.name))\n",
      "    if tree.subtree is not None: ret += '{0}\\n'.format(str(tree.subtree))\n",
      "    if tree.value is not None: ret += '{0}\\n'.format(print_value(tree.value))\n",
      "    if len(tree.children) > 0:\n",
      "        for c in tree.children:\n",
      "            ret += tree_walk(c, level+1)\n",
      "    return ret"
     ],
     "language": "python",
     "metadata": {},
     "outputs": [],
     "prompt_number": 5
    },
    {
     "cell_type": "code",
     "collapsed": false,
     "input": [
      "def print_tree_ascii(tree):\n",
      "    print tree_walk(tree)"
     ],
     "language": "python",
     "metadata": {},
     "outputs": [],
     "prompt_number": 6
    },
    {
     "cell_type": "code",
     "collapsed": false,
     "input": [
      "a = Node(5, subtree='b')\n",
      "b = Node(1, subtree='p')\n",
      "a.addChild(b)\n",
      "c = Node('p', value=('yes', 155))\n",
      "b.addChild(c)\n",
      "d = Node('f', subtree='r')\n",
      "b.addChild(d)\n",
      "print_tree_ascii(a)\n",
      "print b.getLeaf('p')\n",
      "print a.getSubtree('p')"
     ],
     "language": "python",
     "metadata": {},
     "outputs": [
      {
       "output_type": "stream",
       "stream": "stdout",
       "text": [
        "5 : b\n",
        "    1 : p\n",
        "        p : yes - 155\n",
        "        f : r\n",
        "\n",
        "<__main__.Node object at 0x0000000003ECD5F8>\n",
        "<__main__.Node object at 0x0000000003ECD518>\n"
       ]
      }
     ],
     "prompt_number": 7
    },
    {
     "cell_type": "markdown",
     "metadata": {},
     "source": [
      "We're going to be testing as we go along so we will load the data earlier rather than later. As usual, we can use Numpy's super fast **loadtxt** to put everything into a 2D array."
     ]
    },
    {
     "cell_type": "code",
     "collapsed": false,
     "input": [
      "data = np.loadtxt('agaricus-lepiota.data', delimiter=',', dtype='S1')"
     ],
     "language": "python",
     "metadata": {},
     "outputs": [],
     "prompt_number": 8
    },
    {
     "cell_type": "code",
     "collapsed": false,
     "input": [
      "data[0]"
     ],
     "language": "python",
     "metadata": {},
     "outputs": [
      {
       "metadata": {},
       "output_type": "pyout",
       "prompt_number": 9,
       "text": [
        "array(['p', 'x', 's', 'n', 't', 'p', 'f', 'c', 'n', 'k', 'e', 'e', 's',\n",
        "       's', 'w', 'w', 'p', 'w', 'o', 'p', 'k', 's', 'u'], \n",
        "      dtype='|S1')"
       ]
      }
     ],
     "prompt_number": 9
    },
    {
     "cell_type": "markdown",
     "metadata": {},
     "source": [
      "We need to test if our dataset is empty. This could happen, in theory, as we continue to partition our dataset. In practice I have yet to see it return true."
     ]
    },
    {
     "cell_type": "code",
     "collapsed": false,
     "input": [
      "def data_is_empty(data):\n",
      "    return len(data) == 0"
     ],
     "language": "python",
     "metadata": {},
     "outputs": [],
     "prompt_number": 10
    },
    {
     "cell_type": "code",
     "collapsed": false,
     "input": [
      "print data_is_empty(data) == False\n",
      "print data_is_empty(np.array([])) == True"
     ],
     "language": "python",
     "metadata": {},
     "outputs": [
      {
       "output_type": "stream",
       "stream": "stdout",
       "text": [
        "True\n",
        "True\n"
       ]
      }
     ],
     "prompt_number": 11
    },
    {
     "cell_type": "markdown",
     "metadata": {},
     "source": [
      "This is the heart behind the ID3 algorithm. It calculates the entropy of a certain dataset using the formula below:\n",
      "\n",
      "$E(S) = -\\sum{p_i\\log_2{p_i}}$\n",
      "\n",
      "where $p_i$ is the ratio of each occurence."
     ]
    },
    {
     "cell_type": "code",
     "collapsed": false,
     "input": [
      "def calc_entropy(total, counts):\n",
      "    e = -np.sum([(float(x)/total)*np.log2(float(x)/total) for x in counts if x != 0])\n",
      "    return e"
     ],
     "language": "python",
     "metadata": {},
     "outputs": [],
     "prompt_number": 12
    },
    {
     "cell_type": "code",
     "collapsed": false,
     "input": [
      "calc_entropy(7, [4, 3])"
     ],
     "language": "python",
     "metadata": {},
     "outputs": [
      {
       "metadata": {},
       "output_type": "pyout",
       "prompt_number": 13,
       "text": [
        "0.98522813603425152"
       ]
      }
     ],
     "prompt_number": 13
    },
    {
     "cell_type": "markdown",
     "metadata": {},
     "source": [
      "This is a shortcut for determining the domain values of an attribute or feature. This eliminuates the need to input them beforehand but causes a problem when a new domain value is introduced."
     ]
    },
    {
     "cell_type": "code",
     "collapsed": false,
     "input": [
      "def get_domain_values(data, col):\n",
      "    d = np.unique(data[:, col])\n",
      "    return d"
     ],
     "language": "python",
     "metadata": {},
     "outputs": [],
     "prompt_number": 14
    },
    {
     "cell_type": "code",
     "collapsed": false,
     "input": [
      "get_domain_values(data, 0)"
     ],
     "language": "python",
     "metadata": {},
     "outputs": [
      {
       "metadata": {},
       "output_type": "pyout",
       "prompt_number": 15,
       "text": [
        "array(['e', 'p'], \n",
        "      dtype='|S1')"
       ]
      }
     ],
     "prompt_number": 15
    },
    {
     "cell_type": "markdown",
     "metadata": {},
     "source": [
      "This function gives us the total number of instances that meet a certain criteria. We can search by column and domain value and cross-correlate to another. This is necessary for calculating weighted entropy and information gain."
     ]
    },
    {
     "cell_type": "code",
     "collapsed": false,
     "input": [
      "def get_datacount(data, col, value, y_col=None, y_value=None):\n",
      "    a = (data[:, col] == value)\n",
      "    if y_col is None or y_value is None:\n",
      "        return a.sum()\n",
      "    b = (data[:, y_col] == y_value)\n",
      "    c = np.logical_and(a, b)\n",
      "    return c.sum()"
     ],
     "language": "python",
     "metadata": {},
     "outputs": [],
     "prompt_number": 16
    },
    {
     "cell_type": "code",
     "collapsed": false,
     "input": [
      "get_datacount(data, 0, 'e')"
     ],
     "language": "python",
     "metadata": {},
     "outputs": [
      {
       "metadata": {},
       "output_type": "pyout",
       "prompt_number": 17,
       "text": [
        "4208"
       ]
      }
     ],
     "prompt_number": 17
    },
    {
     "cell_type": "markdown",
     "metadata": {},
     "source": [
      "We need to determine if the partitioned dataset is homogeneous or not. We could do this by just counting the domain values and seeing if there is only one unique value, but a better way is to calculate the entropy. An entropy value of 0 means our dataset is homogenous."
     ]
    },
    {
     "cell_type": "code",
     "collapsed": false,
     "input": [
      "def data_is_homogeneous(data):\n",
      "    domain = get_domain_values(data, 0)\n",
      "    total = len(data[:,0])\n",
      "    e = calc_entropy(total, [get_datacount(data, 0, dval) for dval in domain])\n",
      "    return e == 0.0"
     ],
     "language": "python",
     "metadata": {},
     "outputs": [],
     "prompt_number": 18
    },
    {
     "cell_type": "code",
     "collapsed": false,
     "input": [
      "class_p_only = data[np.where(data[:,0] == 'e')]\n",
      "print data_is_homogeneous(class_p_only) == True\n",
      "print data_is_homogeneous(data) == False"
     ],
     "language": "python",
     "metadata": {},
     "outputs": [
      {
       "output_type": "stream",
       "stream": "stdout",
       "text": [
        "True\n",
        "True\n"
       ]
      }
     ],
     "prompt_number": 19
    },
    {
     "cell_type": "markdown",
     "metadata": {},
     "source": [
      "We will need to partition our data as we progress through the algorithm. This function will allow us to select all data which matches a certain value in a column."
     ]
    },
    {
     "cell_type": "code",
     "collapsed": false,
     "input": [
      "def reduce_dataset_by_value(data, col, value):\n",
      "    dataset = data[np.where(data[:,col] == value)]\n",
      "    return dataset"
     ],
     "language": "python",
     "metadata": {},
     "outputs": [],
     "prompt_number": 20
    },
    {
     "cell_type": "code",
     "collapsed": false,
     "input": [
      "reduce_dataset_by_value(data, 0, 'e').shape"
     ],
     "language": "python",
     "metadata": {},
     "outputs": [
      {
       "metadata": {},
       "output_type": "pyout",
       "prompt_number": 21,
       "text": [
        "(4208L, 23L)"
       ]
      }
     ],
     "prompt_number": 21
    },
    {
     "cell_type": "markdown",
     "metadata": {},
     "source": [
      "We also need to determine the majority classification label for a certain algorithm. This is done by segregating the columns by each domain value and then counting the classification labels for the largest domain value."
     ]
    },
    {
     "cell_type": "code",
     "collapsed": false,
     "input": [
      "def majority_label(data, col):\n",
      "    domain = get_domain_values(data, col)\n",
      "    freqs = [(dval, get_datacount(data, col, dval)) for dval in domain]\n",
      "    attrib_majority = sorted(freqs, key=itemgetter(1), reverse=True)\n",
      "    subset = reduce_dataset_by_value(data, col, attrib_majority[0][0])\n",
      "    y_domain = get_domain_values(subset, 0)\n",
      "    y_freqs = [(dval, get_datacount(data, 0, dval)) for dval in y_domain]\n",
      "    class_majority = sorted(y_freqs, key=itemgetter(1), reverse=True)\n",
      "    return attrib_majority[0][0], class_majority"
     ],
     "language": "python",
     "metadata": {},
     "outputs": [],
     "prompt_number": 22
    },
    {
     "cell_type": "code",
     "collapsed": false,
     "input": [
      "d = reduce_dataset_by_value(data, 5, 'a')\n",
      "print data_is_homogeneous(d)\n",
      "majority_label(d, 5)"
     ],
     "language": "python",
     "metadata": {},
     "outputs": [
      {
       "output_type": "stream",
       "stream": "stdout",
       "text": [
        "True\n"
       ]
      },
      {
       "metadata": {},
       "output_type": "pyout",
       "prompt_number": 23,
       "text": [
        "('a', [('e', 400)])"
       ]
      }
     ],
     "prompt_number": 23
    },
    {
     "cell_type": "markdown",
     "metadata": {},
     "source": [
      "Now we need to calculate our weighted entropy. This is done by calculating the entropy for each domain value then weighing them against the ratio of occurences."
     ]
    },
    {
     "cell_type": "code",
     "collapsed": false,
     "input": [
      "def get_weighted_entropy(data, col, y_col):\n",
      "    y_domain, y_total = get_domain_values(data, y_col), float(len(data[:, y_col]))\n",
      "    a_domain, a_total = get_domain_values(data, col), float(len(data))\n",
      "    a_freqs = [get_datacount(data, col, aval) for aval in a_domain]\n",
      "    entropies = [calc_entropy(get_datacount(data, col, dval),\n",
      "                              [get_datacount(data, col, dval, y_col, yval) for yval in y_domain])\n",
      "                for dval in a_domain]\n",
      "    entropy = np.sum([a_freqs[i]/a_total*entropies[i] for i,_ in enumerate(a_freqs)])\n",
      "    return entropy"
     ],
     "language": "python",
     "metadata": {},
     "outputs": [],
     "prompt_number": 24
    },
    {
     "cell_type": "code",
     "collapsed": false,
     "input": [
      "get_weighted_entropy(data, 1, 0)"
     ],
     "language": "python",
     "metadata": {},
     "outputs": [
      {
       "metadata": {},
       "output_type": "pyout",
       "prompt_number": 25,
       "text": [
        "0.95027119493708734"
       ]
      }
     ],
     "prompt_number": 25
    },
    {
     "cell_type": "markdown",
     "metadata": {},
     "source": [
      "After calculating weighted entropy for each attribute, we can now calculate the information gain. This function will pick the attribute with the highest information gain.\n",
      "\n",
      "$G(S,A) = E(S) - \\sum_{v \\subset V_A} {|S_v| \\over |S|} \\cdot {E(S_v)}$\n",
      "\n",
      "where $E(S)$ is the entropy of the class column and the latter part of the equation is the entropy of the domain values."
     ]
    },
    {
     "cell_type": "code",
     "collapsed": false,
     "input": [
      "def pick_best_attribute(data, attributes, ycol):\n",
      "    y_domain, y_total = get_domain_values(data, ycol), len(data[:,ycol])\n",
      "    y_entropy = calc_entropy(y_total, [get_datacount(data, ycol, dval) for dval in y_domain])\n",
      "    ig = [(i, y_entropy - get_weighted_entropy(data, i, ycol)) for i in attributes]\n",
      "    best = sorted(ig, key=itemgetter(1), reverse=True)[0]\n",
      "    return best[0]"
     ],
     "language": "python",
     "metadata": {},
     "outputs": [],
     "prompt_number": 26
    },
    {
     "cell_type": "code",
     "collapsed": false,
     "input": [
      "pick_best_attribute(data, range(1, 2), 0)"
     ],
     "language": "python",
     "metadata": {},
     "outputs": [
      {
       "metadata": {},
       "output_type": "pyout",
       "prompt_number": 27,
       "text": [
        "1"
       ]
      }
     ],
     "prompt_number": 27
    },
    {
     "cell_type": "markdown",
     "metadata": {},
     "source": [
      "We will attempt to use something we learned from CSP and implement a method to order the domain values that we search through in order to reduce the size of the tree. The domain values are in order of increasing entropy since lower entropies tend to be more homogenous. The effectiveness of this implementation was not measured."
     ]
    },
    {
     "cell_type": "code",
     "collapsed": false,
     "input": [
      "def order_domain_values(data, col):\n",
      "    domain, total = get_domain_values(data, col), float(len(data[:, col]))\n",
      "    freq = [(dval, calc_entropy(total, [get_datacount(data, col, dval)])) for dval in domain]\n",
      "    order = sorted(freq, key=itemgetter(1))\n",
      "    return zip(*order)[0]"
     ],
     "language": "python",
     "metadata": {},
     "outputs": [],
     "prompt_number": 28
    },
    {
     "cell_type": "code",
     "collapsed": false,
     "input": [
      "order_domain_values(data, 5)"
     ],
     "language": "python",
     "metadata": {},
     "outputs": [
      {
       "metadata": {},
       "output_type": "pyout",
       "prompt_number": 29,
       "text": [
        "('m', 'c', 'p', 'a', 'l', 's', 'y', 'f', 'n')"
       ]
      }
     ],
     "prompt_number": 29
    },
    {
     "cell_type": "markdown",
     "metadata": {},
     "source": [
      "Our ID3 algorithm follows. It is a simple recursive algorithm that loops through each attribute and its respective domain and creates a tree based on entropy calculations. Since our dataset has some unknown domain values, '?', we will skip training for this when we come across it."
     ]
    },
    {
     "cell_type": "code",
     "collapsed": false,
     "input": [
      "def id3(data, attributes, default_label, ycol=0, subtree=None):\n",
      "    if data_is_empty(data): return default_label\n",
      "    domain_value, classification = majority_label(data, ycol)\n",
      "    if data_is_homogeneous(data): return Node(domain_value, value=classification)\n",
      "    if len(attributes) == 0: return Node(domain_value, value=classification)\n",
      "    best_attribute = pick_best_attribute(data, attributes, ycol)\n",
      "    m = majority_label(data, best_attribute)\n",
      "    node = Node(best_attribute, subtree=subtree if subtree is not None else m[0])\n",
      "    attributes.remove(best_attribute)\n",
      "    for domain_value in order_domain_values(data, best_attribute):\n",
      "        if domain_value == '?': continue\n",
      "        data_subset = reduce_dataset_by_value(data, best_attribute, domain_value)\n",
      "        child = id3(data_subset, deepcopy(attributes), node.value, ycol=best_attribute, subtree=domain_value)\n",
      "        node.addChild(child)\n",
      "    return node"
     ],
     "language": "python",
     "metadata": {},
     "outputs": [],
     "prompt_number": 30
    },
    {
     "cell_type": "markdown",
     "metadata": {},
     "source": [
      "Now we will test our algorithm against the dataset."
     ]
    },
    {
     "cell_type": "code",
     "collapsed": false,
     "input": [
      "tree = id3(data, range(1, 23), 'p')\n",
      "print_tree_ascii(tree)"
     ],
     "language": "python",
     "metadata": {},
     "outputs": [
      {
       "output_type": "stream",
       "stream": "stdout",
       "text": [
        "5 : n\n",
        "    m : p - 36\n",
        "    c : p - 192\n",
        "    p : p - 256\n",
        "    a : e - 400\n",
        "    l : e - 400\n",
        "    s : p - 576\n",
        "    y : p - 576\n",
        "    f : p - 2160\n",
        "    1 : n\n",
        "        c : p - 4\n",
        "        s : e - 32\n",
        "        2 : b\n",
        "            g : p - 1\n",
        "            3 : y\n",
        "                4 : n\n",
        "                    6 : f\n",
        "                        7 : f\n",
        "                            8 : c\n",
        "                                b : e - 2\n",
        "                                n : p - 2\n",
        "                y : p - 4\n",
        "                b : p - 6\n",
        "                p : p - 6\n",
        "                w : p - 7\n",
        "            3 : s\n",
        "                b : p - 6\n",
        "                p : p - 6\n",
        "                g : e - 24\n",
        "                4 : w\n",
        "                    f : e - 24\n",
        "                    t : p - 6\n",
        "                n : e - 50\n",
        "            3 : f\n",
        "                n : p - 2\n",
        "                y : p - 2\n",
        "                g : e - 24\n",
        "                w : e - 24\n",
        "        2 : k\n",
        "            g : p - 1\n",
        "            3 : y\n",
        "                w : p - 1\n",
        "                c : e - 4\n",
        "                y : p - 4\n",
        "                b : e - 8\n",
        "                e : e - 8\n",
        "                p : e - 8\n",
        "                4 : n\n",
        "                    6 : f\n",
        "                        7 : f\n",
        "                            8 : c\n",
        "                                b : e - 2\n",
        "                                n : p - 2\n",
        "                            w : e - 4\n",
        "                    t : e - 8\n",
        "            s : e - 130\n",
        "            3 : f\n",
        "                y : p - 2\n",
        "                c : e - 4\n",
        "                4 : n\n",
        "                    6 : f\n",
        "                        7 : f\n",
        "                            w : e - 4\n",
        "                            c : p - 2\n",
        "                g : e - 24\n",
        "                w : e - 24\n",
        "        2 : x\n",
        "            s : e - 330\n",
        "            3 : f\n",
        "                y : p - 2\n",
        "                c : e - 4\n",
        "                w : e - 88\n",
        "                e : e - 144\n",
        "                4 : n\n",
        "                    t : e - 144\n",
        "                    6 : f\n",
        "                        7 : f\n",
        "                            w : e - 68\n",
        "                            8 : c\n",
        "                                9 : n\n",
        "                                    w : p - 2\n",
        "                                    g : e - 4\n",
        "                                    k : e - 4\n",
        "                                    n : e - 4\n",
        "                                    p : e - 4\n",
        "                g : e - 248\n",
        "            3 : y\n",
        "                y : p - 2\n",
        "                c : e - 6\n",
        "                b : e - 8\n",
        "                r : e - 8\n",
        "                u : e - 8\n",
        "                w : e - 8\n",
        "                p : e - 10\n",
        "                g : e - 146\n",
        "                e : e - 152\n",
        "                4 : n\n",
        "                    t : e - 154\n",
        "                    6 : f\n",
        "                        7 : f\n",
        "                            8 : c\n",
        "                                b : e - 2\n",
        "                                n : p - 2\n",
        "                            w : e - 4\n",
        "        2 : f\n",
        "            g : p - 1\n",
        "            3 : s\n",
        "                c : e - 2\n",
        "                e : e - 8\n",
        "                4 : b\n",
        "                    6 : t\n",
        "                        7 : f\n",
        "                            8 : c\n",
        "                                9 : b\n",
        "                                    g : p - 2\n",
        "                                    r : p - 2\n",
        "                                    e : e - 4\n",
        "                                    10 : w\n",
        "                                        11 : e\n",
        "                                            b : p - 2\n",
        "                4 : p\n",
        "                    6 : t\n",
        "                        7 : f\n",
        "                            8 : c\n",
        "                                9 : b\n",
        "                                    g : p - 2\n",
        "                                    r : p - 2\n",
        "                                    e : e - 4\n",
        "                                    10 : w\n",
        "                                        11 : e\n",
        "                                            12 : b\n",
        "                                                13 : s\n",
        "                                                    14 : s\n",
        "                                                        15 : w\n",
        "                                                            16 : w\n",
        "                                                                17 : p\n",
        "                                                                    18 : w\n",
        "                                                                        19 : t\n",
        "                                                                            20 : p\n",
        "                                                                                r : p - 2\n",
        "                                                                                w : e - 2\n",
        "                g : e - 66\n",
        "                4 : w\n",
        "                    f : e - 64\n",
        "                    t : p - 6\n",
        "                n : e - 124\n",
        "            3 : f\n",
        "                y : p - 2\n",
        "                c : e - 4\n",
        "                w : e - 64\n",
        "                e : e - 144\n",
        "                g : e - 224\n",
        "                4 : n\n",
        "                    t : e - 144\n",
        "                    6 : f\n",
        "                        7 : f\n",
        "                            w : e - 68\n",
        "                            8 : c\n",
        "                                9 : n\n",
        "                                    w : p - 2\n",
        "                                    g : e - 4\n",
        "                                    k : e - 4\n",
        "                                    n : e - 4\n",
        "                                    p : e - 4\n",
        "            3 : y\n",
        "                y : p - 4\n",
        "                c : e - 6\n",
        "                r : e - 8\n",
        "                u : e - 8\n",
        "                4 : b\n",
        "                    6 : t\n",
        "                        7 : f\n",
        "                            8 : c\n",
        "                                9 : b\n",
        "                                    g : p - 2\n",
        "                                    r : p - 2\n",
        "                                    e : e - 4\n",
        "                                    10 : w\n",
        "                                        11 : e\n",
        "                                            b : p - 2\n",
        "                4 : w\n",
        "                    f : e - 8\n",
        "                    t : p - 7\n",
        "                4 : p\n",
        "                    6 : t\n",
        "                        7 : f\n",
        "                            8 : c\n",
        "                                9 : b\n",
        "                                    g : p - 2\n",
        "                                    r : p - 2\n",
        "                                    e : e - 4\n",
        "                                    10 : w\n",
        "                                        11 : e\n",
        "                                            12 : b\n",
        "                                                13 : s\n",
        "                                                    14 : s\n",
        "                                                        15 : w\n",
        "                                                            16 : w\n",
        "                                                                17 : p\n",
        "                                                                    18 : w\n",
        "                                                                        19 : t\n",
        "                                                                            20 : p\n",
        "                                                                                r : p - 2\n",
        "                                                                                w : e - 2\n",
        "                g : e - 146\n",
        "                e : e - 152\n",
        "                4 : n\n",
        "                    t : e - 154\n",
        "                    6 : f\n",
        "                        7 : f\n",
        "                            8 : c\n",
        "                                b : e - 2\n",
        "                                n : p - 2\n",
        "                            w : e - 4\n",
        "\n"
       ]
      }
     ],
     "prompt_number": 31
    },
    {
     "cell_type": "markdown",
     "metadata": {},
     "source": [
      "##Classification##\n",
      "\n",
      "Classification poses an interesting problem because we have to traverse the tree in order to find the class label. A lot of thought, trial and error went into designing the Node class and methods to make this as simple as possible.\n",
      "\n",
      "Our classification algorithm uses a simple backtracking-search through the tree. It tests each node against the domain value and traverse the child nodes until it finds a class label. If it doesn't it backtracks until it does. Inference and other checks were not implemented at this time due to time constraints. If the tree and traversal algorithm works like it should, backtracking should not even be necessary."
     ]
    },
    {
     "cell_type": "code",
     "collapsed": false,
     "input": [
      "def classify_backtrack(tree, instance, level=0, debug=False):\n",
      "    if debug: print '{0}{1}'.format('  '*level, tree.name)\n",
      "    if type(tree.name) == int:\n",
      "        value = instance[int(tree.name) - 1]\n",
      "        leaf = tree.getLeaf(value)\n",
      "        if leaf is not None:\n",
      "            vals = sorted(leaf.value, key=itemgetter(1), reverse=True)\n",
      "            if debug: print '{0}{1} : {2}'.format('  '*(level+1), leaf.name, print_value(vals[0]))\n",
      "            return True, vals[0][0]\n",
      "        subtree = tree.getSubtree(value)\n",
      "        if subtree is not None:\n",
      "            result, classification = classify_backtrack(subtree, instance, level+1)\n",
      "            if result: return True, classification\n",
      "    return False, None"
     ],
     "language": "python",
     "metadata": {},
     "outputs": [],
     "prompt_number": 32
    },
    {
     "cell_type": "code",
     "collapsed": false,
     "input": [
      "def classify(tree, instance):\n",
      "    result, classification = classify_backtrack(tree, instance)\n",
      "    if result: return classification\n",
      "    else: return None"
     ],
     "language": "python",
     "metadata": {},
     "outputs": [],
     "prompt_number": 33
    },
    {
     "cell_type": "markdown",
     "metadata": {},
     "source": [
      "Now we test our classification method."
     ]
    },
    {
     "cell_type": "code",
     "collapsed": false,
     "input": [
      "i = 4\n",
      "instance = data[i][1:]\n",
      "print data[i]\n",
      "classify(tree, instance)"
     ],
     "language": "python",
     "metadata": {},
     "outputs": [
      {
       "output_type": "stream",
       "stream": "stdout",
       "text": [
        "['e' 'x' 's' 'g' 'f' 'n' 'f' 'w' 'b' 'k' 't' 'e' 's' 's' 'w' 'w' 'p' 'w'\n",
        " 'o' 'e' 'n' 'a' 'g']\n"
       ]
      },
      {
       "metadata": {},
       "output_type": "pyout",
       "prompt_number": 34,
       "text": [
        "'e'"
       ]
      }
     ],
     "prompt_number": 34
    },
    {
     "cell_type": "markdown",
     "metadata": {},
     "source": [
      "##Model Evaluation##\n",
      "\n",
      "We will once again use a 10-fold cross evaluation to analyze the performance of our tree. We will need methods to partition the data, borrowed from previous assignments, split the data and to do the actual evaluation."
     ]
    },
    {
     "cell_type": "code",
     "collapsed": false,
     "input": [
      "def partition(dataset, fold, k):\n",
      "    segments = np.array_split(dataset, k)\n",
      "    test = segments[fold-1]\n",
      "    training = [segments[i] for i in xrange(k) if i != (fold-1)]\n",
      "    return np.concatenate(training), test"
     ],
     "language": "python",
     "metadata": {},
     "outputs": [],
     "prompt_number": 35
    },
    {
     "cell_type": "code",
     "collapsed": false,
     "input": [
      "partition(data, 1, 10)[0].shape"
     ],
     "language": "python",
     "metadata": {},
     "outputs": [
      {
       "metadata": {},
       "output_type": "pyout",
       "prompt_number": 36,
       "text": [
        "(7311L, 23L)"
       ]
      }
     ],
     "prompt_number": 36
    },
    {
     "cell_type": "code",
     "collapsed": false,
     "input": [
      "def split_data(dataset):\n",
      "    x = dataset[:,1:]\n",
      "    y = dataset[:,0]\n",
      "    return x, y"
     ],
     "language": "python",
     "metadata": {},
     "outputs": [],
     "prompt_number": 37
    },
    {
     "cell_type": "code",
     "collapsed": false,
     "input": [
      "split_data(data)[1].shape"
     ],
     "language": "python",
     "metadata": {},
     "outputs": [
      {
       "metadata": {},
       "output_type": "pyout",
       "prompt_number": 38,
       "text": [
        "(8124L,)"
       ]
      }
     ],
     "prompt_number": 38
    },
    {
     "cell_type": "markdown",
     "metadata": {},
     "source": [
      "The output of our validation will be a tuple of prediction and truth. This is necessary because we need to do more than just averaging of error as we will show below."
     ]
    },
    {
     "cell_type": "code",
     "collapsed": false,
     "input": [
      "def cross_validation(dataset, default_label, folds=10):\n",
      "    output = []\n",
      "    attributes = range(1, 23)\n",
      "    for i in xrange(1, folds+1):\n",
      "        training_set, test_set = partition(dataset, i, folds)\n",
      "        tree = id3(training_set, attributes, default_label)\n",
      "        x, y = split_data(test_set)\n",
      "        y_h = np.array([classify(tree, xval) for xval in x])\n",
      "        output.append((y, y_h))\n",
      "    return output"
     ],
     "language": "python",
     "metadata": {},
     "outputs": [],
     "prompt_number": 39
    },
    {
     "cell_type": "markdown",
     "metadata": {},
     "source": [
      "For all classification problems is is very helpful to show the confusion matrix. This matrix contains the True/False Positives and True/False Negative and gives insight as to how we're doing. With this data we can not only calculate the accuracy, but the precision, recall and error margin as well, which are all very good metrics."
     ]
    },
    {
     "cell_type": "code",
     "collapsed": false,
     "input": [
      "def confusion_matrix(y, y_h, pos, neg):\n",
      "    total = len(y)\n",
      "    tp = np.logical_and((y == pos), (y_h == pos)).sum()\n",
      "    tn = np.logical_and((y == neg), (y_h == neg)).sum()\n",
      "    fp = np.logical_and((y == pos), (y_h == neg)).sum()\n",
      "    fn = np.logical_and((y == neg), (y_h == pos)).sum()\n",
      "    return tp, tn, fp, fn"
     ],
     "language": "python",
     "metadata": {},
     "outputs": [],
     "prompt_number": 40
    },
    {
     "cell_type": "code",
     "collapsed": false,
     "input": [
      "def print_confusion_matrix(tp, tn, fp, fn, pos, neg):\n",
      "    html = '''\n",
      "    <table>\n",
      "    <tr><td> </td><td>{0}</td><td>{1}</td></tr>\n",
      "    <tr><td>{2}</td><td>{3}</td><td>{4}</td></tr>\n",
      "    <tr><td>{5}</td><td>{6}</td><td>{7}</td></tr>\n",
      "    '''.format(pos, neg, pos, tp, fp, neg, fn, tn)\n",
      "    h = HTML(html)\n",
      "    return h"
     ],
     "language": "python",
     "metadata": {},
     "outputs": [],
     "prompt_number": 41
    },
    {
     "cell_type": "code",
     "collapsed": false,
     "input": [
      "def print_test_stats(total, tp, tn, fp, fn):\n",
      "    accuracy = (tp + tn)/float(total)\n",
      "    error = (fn + fp)/float(total)\n",
      "    precision = float(tp)/(tp + fp)\n",
      "    recall = float(tp)/(tp + fn)\n",
      "    classified = tp + tn + fp + fn\n",
      "    print \"total:\", total\n",
      "    print \"total classified: {0} ({1:.3%})\".format(classified, classified/float(total))\n",
      "    print \"total unclassified: {0} ({1:.3%})\".format(total - classified,  (total - classified)/float(total))\n",
      "    print \"accuracy: {0:.3%}\".format(accuracy)\n",
      "    print \"error: {0:.3%}\".format(error)\n",
      "    print \"precision: {0:.3%}\".format(precision)\n",
      "    print \"recall: {0:.3%}\".format(recall)"
     ],
     "language": "python",
     "metadata": {},
     "outputs": [],
     "prompt_number": 42
    },
    {
     "cell_type": "markdown",
     "metadata": {},
     "source": [
      "This is our test for 10-fold cross validation. Analysis will follow."
     ]
    },
    {
     "cell_type": "code",
     "collapsed": false,
     "input": [
      "dataset = np.loadtxt('agaricus-lepiota.data', delimiter=',', dtype='S1')\n",
      "np.random.shuffle(dataset)\n",
      "%time output = cross_validation(dataset, 'p')"
     ],
     "language": "python",
     "metadata": {},
     "outputs": [
      {
       "output_type": "stream",
       "stream": "stdout",
       "text": [
        "Wall time: 18.7 s\n"
       ]
      }
     ],
     "prompt_number": 43
    },
    {
     "cell_type": "code",
     "collapsed": false,
     "input": [
      "cm = np.array([confusion_matrix(y, y_h, 'p', 'e') for y, y_h in output])\n",
      "tp, tn, fp, fn = cm.sum(axis=0)\n",
      "total = 0\n",
      "for _, y_h in output:\n",
      "    total += len(y_h)\n",
      "print_test_stats(total, tp, tn, fp, fn)\n",
      "print_confusion_matrix(tp, tn, fp, fn, 'p', 'e')"
     ],
     "language": "python",
     "metadata": {},
     "outputs": [
      {
       "output_type": "stream",
       "stream": "stdout",
       "text": [
        "total: 8124\n",
        "total classified: 8096 (99.655%)\n",
        "total unclassified: 28 (0.345%)\n",
        "accuracy: 99.594%\n",
        "error: 0.062%\n",
        "precision: 99.923%\n",
        "recall: 99.949%\n"
       ]
      },
      {
       "html": [
        "\n",
        "    <table>\n",
        "    <tr><td> </td><td>p</td><td>e</td></tr>\n",
        "    <tr><td>p</td><td>3905</td><td>3</td></tr>\n",
        "    <tr><td>e</td><td>2</td><td>4186</td></tr>\n",
        "    "
       ],
       "metadata": {},
       "output_type": "pyout",
       "prompt_number": 44,
       "text": [
        "<IPython.core.display.HTML at 0x3ecd7b8>"
       ]
      }
     ],
     "prompt_number": 44
    },
    {
     "cell_type": "markdown",
     "metadata": {},
     "source": [
      "An accuracy of above 99% and precision of above 99% is fantastic! Just for the sake of argument, let's see if flipping the positive and negative values have any effect."
     ]
    },
    {
     "cell_type": "code",
     "collapsed": false,
     "input": [
      "%time output = cross_validation(dataset, 'e')\n",
      "cm = np.array([confusion_matrix(y, y_h, 'e', 'p') for y, y_h in output])\n",
      "tp, tn, fp, fn = cm.sum(axis=0)\n",
      "total = 0\n",
      "for _, y_h in output:\n",
      "    total += len(y_h)\n",
      "print_test_stats(total, tp, tn, fp, fn)\n",
      "print_confusion_matrix(tp, tn, fp, fn, 'e', 'p')"
     ],
     "language": "python",
     "metadata": {},
     "outputs": [
      {
       "output_type": "stream",
       "stream": "stdout",
       "text": [
        "Wall time: 16.5 s\n",
        "total: 8124\n",
        "total classified: 8096 (99.655%)\n",
        "total unclassified: 28 (0.345%)\n",
        "accuracy: 99.594%\n",
        "error: 0.062%\n",
        "precision: 99.952%\n",
        "recall: 99.928%\n"
       ]
      },
      {
       "html": [
        "\n",
        "    <table>\n",
        "    <tr><td> </td><td>e</td><td>p</td></tr>\n",
        "    <tr><td>e</td><td>4186</td><td>2</td></tr>\n",
        "    <tr><td>p</td><td>3</td><td>3905</td></tr>\n",
        "    "
       ],
       "metadata": {},
       "output_type": "pyout",
       "prompt_number": 45,
       "text": [
        "<IPython.core.display.HTML at 0x3ecdb38>"
       ]
      }
     ],
     "prompt_number": 45
    },
    {
     "cell_type": "markdown",
     "metadata": {},
     "source": [
      "So the results are more or less the same."
     ]
    },
    {
     "cell_type": "markdown",
     "metadata": {},
     "source": [
      "##Random Forests##\n",
      "\n",
      "So part of the results above show that some instances are not classified. This seems to be contributing to the error rate as about half a percent seem to miss the mark. Introspection revealed that this had to do with some missing domain values in some of the data ('?' values).\n",
      "\n",
      "Random forests may be the solution to that. The idea behind that is to train many, many trees with randomized population samples, then run the classifier against all the trees. The final classification will be the maximum value of all labels."
     ]
    },
    {
     "cell_type": "markdown",
     "metadata": {},
     "source": [
      "Let's start with a function to determine the maximum value of the output. We need to take care and handle those unclassified labels as necessary."
     ]
    },
    {
     "cell_type": "code",
     "collapsed": false,
     "input": [
      "def max_value(values):\n",
      "    freq = [(v, (values == v).sum()) for v in np.unique(values) if v is not None]\n",
      "    return sorted(freq, key=itemgetter(1), reverse=True)[0][0]"
     ],
     "language": "python",
     "metadata": {},
     "outputs": [],
     "prompt_number": 46
    },
    {
     "cell_type": "code",
     "collapsed": false,
     "input": [
      "a = np.array(['e', 'p', 'e', 'p', 'e', 'e', None])\n",
      "max_value(a)"
     ],
     "language": "python",
     "metadata": {},
     "outputs": [
      {
       "metadata": {},
       "output_type": "pyout",
       "prompt_number": 47,
       "text": [
        "'e'"
       ]
      }
     ],
     "prompt_number": 47
    },
    {
     "cell_type": "markdown",
     "metadata": {},
     "source": [
      "Shortcut function to classify from a forest. Easier than using list comprehension."
     ]
    },
    {
     "cell_type": "code",
     "collapsed": false,
     "input": [
      "def classify_forest(forest, instance):\n",
      "    values = np.array([classify(tree, instance) for tree in forest])\n",
      "    return max_value(values)"
     ],
     "language": "python",
     "metadata": {},
     "outputs": [],
     "prompt_number": 48
    },
    {
     "cell_type": "markdown",
     "metadata": {},
     "source": [
      "We'll rewrite our cross validation function to use forests. We'll default to 100 trees which should be a good amount to start with."
     ]
    },
    {
     "cell_type": "code",
     "collapsed": false,
     "input": [
      "def rf_cross_validation(dataset, default_label, folds=10, forest_size=100):\n",
      "    output, forest = [], []\n",
      "    attributes = range(1, 23)\n",
      "    for i in xrange(1, folds+1):\n",
      "        training_set, test_set = partition(dataset, i, folds)\n",
      "        for j in xrange(forest_size):\n",
      "            data = training_set[np.random.randint(0, training_set.shape[0], size=training_set.shape[0])]\n",
      "            tree = id3(data, attributes, default_label)\n",
      "            forest.append(tree)\n",
      "        x, y = split_data(test_set)\n",
      "        y_h = np.array([classify_forest(forest, xval) for xval in x])\n",
      "        output.append((y, y_h))\n",
      "    return output"
     ],
     "language": "python",
     "metadata": {},
     "outputs": [],
     "prompt_number": 49
    },
    {
     "cell_type": "code",
     "collapsed": false,
     "input": [
      "%time forest_output = rf_cross_validation(dataset, 'p')"
     ],
     "language": "python",
     "metadata": {},
     "outputs": [
      {
       "output_type": "stream",
       "stream": "stdout",
       "text": [
        "Wall time: 53.5 s\n"
       ]
      }
     ],
     "prompt_number": 50
    },
    {
     "cell_type": "code",
     "collapsed": false,
     "input": [
      "cm = np.array([confusion_matrix(y, y_h, 'p', 'e') for y, y_h in forest_output])\n",
      "tp, tn, fp, fn = cm.sum(axis=0)\n",
      "total = 0\n",
      "for _, y_h in forest_output:\n",
      "    total += len(y_h)\n",
      "print_test_stats(total, tp, tn, fp, fn)\n",
      "print_confusion_matrix(tp, tn, fp, fn, 'p', 'e')"
     ],
     "language": "python",
     "metadata": {},
     "outputs": [
      {
       "output_type": "stream",
       "stream": "stdout",
       "text": [
        "total: 8124\n",
        "total classified: 8124 (100.000%)\n",
        "total unclassified: 0 (0.000%)\n",
        "accuracy: 100.000%\n",
        "error: 0.000%\n",
        "precision: 100.000%\n",
        "recall: 100.000%\n"
       ]
      },
      {
       "html": [
        "\n",
        "    <table>\n",
        "    <tr><td> </td><td>p</td><td>e</td></tr>\n",
        "    <tr><td>p</td><td>3916</td><td>0</td></tr>\n",
        "    <tr><td>e</td><td>0</td><td>4208</td></tr>\n",
        "    "
       ],
       "metadata": {},
       "output_type": "pyout",
       "prompt_number": 51,
       "text": [
        "<IPython.core.display.HTML at 0x39a3da0>"
       ]
      }
     ],
     "prompt_number": 51
    },
    {
     "cell_type": "markdown",
     "metadata": {},
     "source": [
      "Seriously amazing."
     ]
    },
    {
     "cell_type": "markdown",
     "metadata": {},
     "source": [
      "##Summary##\n",
      "\n",
      "ID3 is a fairly simple algorithm for generating trees based on input data. It's recursive nature allows it to build the tree from the ground up. Care must be taken to choose the appropriate representation for the tree because generating the tree is only half the battle. A classification method must be implemented as well that walks through the tree and outputs the correct classification label.\n",
      "\n",
      "There is more to the algorithm than just generating it. As test results showed above, the error rate increases when the data is not so great. One problem with ID3 is that it is prone to overfitting. There are methods used to prevent this, such as pruning and CHAID, neither of which were implemented.\n",
      "\n",
      "One method that was implemented was Random Forests. This involves generating lots of trees using randomized population samples, then training them against the data. The idea is that no tree will be exactly alike. Classification is done against every tree in the forest and the maximum label value is chosen. As a test showed above, the result is a remarkable improvement."
     ]
    },
    {
     "cell_type": "code",
     "collapsed": false,
     "input": [],
     "language": "python",
     "metadata": {},
     "outputs": [],
     "prompt_number": 51
    }
   ],
   "metadata": {}
  }
 ]
}