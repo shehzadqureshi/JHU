{
 "metadata": {
  "name": ""
 },
 "nbformat": 3,
 "nbformat_minor": 0,
 "worksheets": [
  {
   "cells": [
    {
     "cell_type": "markdown",
     "metadata": {},
     "source": [
      "#Module 8 - Programming Assignment\n",
      "\n",
      "This is the notebook for the Module 8 Programming Assignment.\n",
      "\n",
      "Here are a few tips for using the iPython HTML notebook:\n",
      "\n",
      "1.  You can use tab . Try le<&lt;tab> and see the available functions.\n",
      "2.  You can change the type of cell by picking \"Code\" or \"Markdown\" from the menu at the left.\n",
      "3.  If you keep typing in a Markdown text area, you will eventually get scroll bars. To prevent this, hit return when you come to\n",
      "the end of the window. Only a double return creates a new paragraph.\n",
      "4.  You can find out more about Markdown text here: http://daringfireball.net/projects/markdown/ (Copy this link and put it \n",
      "in another tab for reference--Don't click it or you'll leave your notebook!).\n",
      "5.  Every so often, restart the kernel, clear all output and run all code cells so you can be certain that you didn't\n",
      "define something out of order.\n",
      "\n",
      "**You should rename this notebook to be &lt;your JHED id>_PR8\\.ipynb** Do it right now.\n",
      "\n",
      "**Make certain the entire notebook executes before you submit it.** (See Hint #5 above)\n",
      "\n",
      "Change the following variables:"
     ]
    },
    {
     "cell_type": "code",
     "collapsed": true,
     "input": [
      "name = \"Shehzad Qureshi\"\n",
      "jhed_id = \"squresh6\"\n",
      "if name == \"Student Name\" or jhed_id == \"sname1\":\n",
      "    raise Exception( \"Change the name and/or JHED ID...preferrably to yours.\")"
     ],
     "language": "python",
     "metadata": {},
     "outputs": [],
     "prompt_number": 1
    },
    {
     "cell_type": "markdown",
     "metadata": {},
     "source": [
      "Add whatever additional imports you require here. Stick with the standard libraries and those required by the class. The import\n",
      "gives you access to these functions: http://ipython.org/ipython-doc/stable/api/generated/IPython.core.display.html (Copy this link)\n",
      "Which, among other things, will permit you to display HTML as the result of evaluated code (see HTML() or display_html())."
     ]
    },
    {
     "cell_type": "code",
     "collapsed": true,
     "input": [
      "from IPython.core.display import *\n",
      "import numpy as np"
     ],
     "language": "python",
     "metadata": {},
     "outputs": [],
     "prompt_number": 2
    },
    {
     "cell_type": "markdown",
     "metadata": {},
     "source": [
      "For this assignment, you are going to implement both linear and logistic regression. For a starting point, you can refer to **module-8-pseudocode.pdf**. Remember, the only difference between the two is the actual specification of the error function. You will need some data. There are two files accompanying this assignment, linear_regression.csv and logistic_regression.csv\n",
      "\n",
      "The files are CSV files (comma separated values) and have the same basic layout: x1, x2, y with no headers. You can google how to read a CSV file. You should assume that the last value in each row will always be the value you need to predict but that there may be any number of explanatory (feature) values. You need to add the x0 == 1 (bias) term.\n",
      "\n",
      "In the lecture, I mentioned that you usually should mean normalize your data but you don't need to do that in this case because the data is already mean normalized.\n",
      "\n",
      "I should mention that gradient descent is not the usual approach to (logistic) regression. There is a way to solve these exactly. The use of gradient descent is pedagogical, to prepare you for neural networks. Gradient descent is also used in cases where exact methods won't work.\n",
      "\n",
      "The usual directions apply: fully document your functions (both what and why) and include a final discussion of the assignment and concepts."
     ]
    },
    {
     "cell_type": "markdown",
     "metadata": {},
     "source": [
      "##Gradient Descent\n",
      "\n",
      "Gradient descent is an algorithm similar to hill-climbing. The aim of the algorithm is to try to compute weights of a line that best fits the dataset, and it does this by incrementally adjusting the weights and minimizing the error."
     ]
    },
    {
     "cell_type": "markdown",
     "metadata": {},
     "source": [
      "We first need a way to translate the input data. We are assuming that input data is a list of lists, with each list containing an example of features and an output, i.e. each list will be of the form <code>[x1 x2 x3 ... xn y]</code>. Numpy's <code>loadtxt</code> function can parse csv files into this format. To make the algorithm easier we add <code>x0 = 1</code> to the x vector."
     ]
    },
    {
     "cell_type": "code",
     "collapsed": false,
     "input": [
      "def get_data(data):\n",
      "    x, y = np.hsplit(data, np.array([np.shape(data)[1]-1]))\n",
      "    x = np.insert(x, 0, 1, axis=1)\n",
      "    return x, y"
     ],
     "language": "python",
     "metadata": {},
     "outputs": [],
     "prompt_number": 3
    },
    {
     "cell_type": "markdown",
     "metadata": {},
     "source": [
      "This is our function for computing the error for linear regression.\n",
      "\n",
      "$J(\\theta) = {1 \\over 2n} \\sum{(\\hat{y} - y)}^2$\n",
      "\n",
      "where\n",
      "\n",
      "$\\hat{y} = \\theta \\cdot x$\n",
      "\n",
      "and $n$ is the number of examples in the data set. We square the difference in order to make the derivative a bit cleaner."
     ]
    },
    {
     "cell_type": "code",
     "collapsed": false,
     "input": [
      "def calculate_linear_error(x, y, thetas):\n",
      "    y_hat = np.dot(x, thetas).reshape(np.shape(y))\n",
      "    e = np.sum((y_hat - y)**2) / (2 * np.shape(x)[0])\n",
      "    return e"
     ],
     "language": "python",
     "metadata": {},
     "outputs": [],
     "prompt_number": 4
    },
    {
     "cell_type": "markdown",
     "metadata": {},
     "source": [
      "This is our function computing the error for logistic regression.\n",
      "\n",
      "$J(\\theta) = - {1 \\over n} \\sum y \\cdot \\log(\\hat{y}) + (1 - y)\\log(1 - \\hat{y})$\n",
      "\n",
      "where\n",
      "\n",
      "$\\hat{y} = {1 \\over {1 + e^{-\\theta \\cdot x}}}$\n",
      "\n",
      "and $n$ is the number of examples in the data set. Multiplying the sum of two vector indices is the same as the dot product of two vectors."
     ]
    },
    {
     "cell_type": "code",
     "collapsed": false,
     "input": [
      "def calculate_logistic_error(x, y, thetas):\n",
      "    tmp = np.dot(x, thetas).reshape(np.shape(y))\n",
      "    y_hat = 1 / (1 + np.exp(-tmp))\n",
      "    e = np.sum(y*np.log(y_hat) + (1-y)*np.log(1-y_hat)) / -np.shape(x)[0]\n",
      "    return e"
     ],
     "language": "python",
     "metadata": {},
     "outputs": [],
     "prompt_number": 5
    },
    {
     "cell_type": "markdown",
     "metadata": {},
     "source": [
      "Our function for computing the derivatives follow. We have one for linear regression and one for logistic regression, which are essentially the same except for the defintion of $\\hat{y}$.\n",
      "\n",
      "$\\frac{\\partial J} {\\partial \\theta_j} = {1 \\over n} \\sum (\\hat{y} - y) \\cdot x_j$\n",
      "\n",
      "$n$ is the number of examples in the data set and $x_j$ is the entire column of data for each feature."
     ]
    },
    {
     "cell_type": "code",
     "collapsed": false,
     "input": [
      "def linear_derivative(x, y, thetas):\n",
      "    y_hat = np.dot(x, thetas).reshape(np.shape(y))\n",
      "    d = np.array([np.dot(x[:, i], y_hat - y)[0]/np.shape(x)[0] for i in xrange(np.shape(x)[1])])\n",
      "    return d"
     ],
     "language": "python",
     "metadata": {},
     "outputs": [],
     "prompt_number": 6
    },
    {
     "cell_type": "code",
     "collapsed": false,
     "input": [
      "def logistic_derivative(x, y, thetas):\n",
      "    tmp = np.dot(x, thetas).reshape(np.shape(y))\n",
      "    y_hat = 1 / (1 + np.exp(-tmp))\n",
      "    d = np.array([np.dot(x[:, i], y_hat - y)[0]/np.shape(x)[0] for i in xrange(np.shape(x)[1])])\n",
      "    return d"
     ],
     "language": "python",
     "metadata": {},
     "outputs": [],
     "prompt_number": 7
    },
    {
     "cell_type": "markdown",
     "metadata": {},
     "source": [
      "The two functions below, one for linear regression and one for logistic regression, take in rows of data and returns a list of coefficients or weights, the theta vector. The initial theta vector is randomly generated from <code>[0, 1)</code>. The algorithm iterates until the error difference between iterations is less than $\\epsilon$.\n",
      "\n",
      "The functions are exactly the same with the exception of initial parameters and the calls to their respective error and derivative calculations."
     ]
    },
    {
     "cell_type": "code",
     "collapsed": false,
     "input": [
      "def linear_regression(data, alpha=0.001, epsilon=0.00001):\n",
      "    x, y = get_data(data)\n",
      "    thetas = np.random.random(size=np.shape(x)[1])\n",
      "    previous_error, current_error = 0, calculate_linear_error(x, y, thetas)\n",
      "    while np.absolute(current_error - previous_error) > epsilon:\n",
      "        new_thetas = thetas - alpha * linear_derivative(x, y, thetas)\n",
      "        thetas, previous_error = new_thetas, current_error\n",
      "        current_error = calculate_linear_error(x, y, thetas)\n",
      "    return thetas"
     ],
     "language": "python",
     "metadata": {},
     "outputs": [],
     "prompt_number": 8
    },
    {
     "cell_type": "code",
     "collapsed": false,
     "input": [
      "def logistic_regression(data, alpha=0.05, epsilon=0.00001):\n",
      "    x, y = get_data(data)\n",
      "    thetas = np.random.random(size=np.shape(x)[1])\n",
      "    previous_error, current_error = 0, calculate_logistic_error(x, y, thetas)\n",
      "    while np.absolute(current_error - previous_error) > epsilon:\n",
      "        new_thetas = thetas - alpha * logistic_derivative(x, y, thetas)\n",
      "        thetas, previous_error = new_thetas, current_error\n",
      "        current_error = calculate_logistic_error(x, y, thetas)\n",
      "    return thetas"
     ],
     "language": "python",
     "metadata": {},
     "outputs": [],
     "prompt_number": 9
    },
    {
     "cell_type": "markdown",
     "metadata": {},
     "source": [
      "** Testing **\n",
      "\n",
      "Let's start by defining a function to read in our csv file. We can use Numpy's <code>loadtxt</code> function to read in the file."
     ]
    },
    {
     "cell_type": "code",
     "collapsed": false,
     "input": [
      "def read_file(filename):\n",
      "    return np.loadtxt(filename, delimiter=',')"
     ],
     "language": "python",
     "metadata": {},
     "outputs": [],
     "prompt_number": 10
    },
    {
     "cell_type": "markdown",
     "metadata": {},
     "source": [
      "Now we can ru our linear regression algorithm against the data set provided."
     ]
    },
    {
     "cell_type": "code",
     "collapsed": false,
     "input": [
      "data = read_file('linear_regression.csv')\n",
      "linear_regression(data)"
     ],
     "language": "python",
     "metadata": {},
     "outputs": [
      {
       "metadata": {},
       "output_type": "pyout",
       "prompt_number": 11,
       "text": [
        "array([ 1.02645659,  1.95674332,  2.88966996])"
       ]
      }
     ],
     "prompt_number": 11
    },
    {
     "cell_type": "markdown",
     "metadata": {},
     "source": [
      "The textbook states that there is a way to solve analytically for weights or coefficients that minimizes loss. The formula uses matrices:\n",
      "\n",
      "$w^* = (X^T \\cdot X)^{-1} \\cdot X^T \\cdot y$"
     ]
    },
    {
     "cell_type": "code",
     "collapsed": false,
     "input": [
      "def solve_linear_regression(x, y):\n",
      "    xm, ym = np.asmatrix(x), np.asmatrix(y)\n",
      "    s = xm.T.dot(xm).I.dot(xm.T).dot(ym)\n",
      "    return s"
     ],
     "language": "python",
     "metadata": {},
     "outputs": [],
     "prompt_number": 12
    },
    {
     "cell_type": "code",
     "collapsed": false,
     "input": [
      "data = read_file('linear_regression.csv')\n",
      "x, y = get_data(data)\n",
      "solve_linear_regression(x, y)"
     ],
     "language": "python",
     "metadata": {},
     "outputs": [
      {
       "metadata": {},
       "output_type": "pyout",
       "prompt_number": 13,
       "text": [
        "matrix([[ 1.],\n",
        "        [ 2.],\n",
        "        [ 3.]])"
       ]
      }
     ],
     "prompt_number": 13
    },
    {
     "cell_type": "markdown",
     "metadata": {},
     "source": [
      "We see that our results from gradient descent actually come pretty close. Now we test logistic regression."
     ]
    },
    {
     "cell_type": "code",
     "collapsed": false,
     "input": [
      "data = read_file('logistic_regression.csv')\n",
      "logistic_regression(data)"
     ],
     "language": "python",
     "metadata": {},
     "outputs": [
      {
       "metadata": {},
       "output_type": "pyout",
       "prompt_number": 14,
       "text": [
        "array([ 0.42060328,  1.23945647,  2.0392467 ])"
       ]
      }
     ],
     "prompt_number": 14
    },
    {
     "cell_type": "markdown",
     "metadata": {},
     "source": [
      "Let's write a function to generate random feature data from (-1, 1)."
     ]
    },
    {
     "cell_type": "code",
     "collapsed": false,
     "input": [
      "def generate_random_data(num_samples, num_features):\n",
      "    x = np.random.uniform(-1, 1, size=(num_samples, num_features))\n",
      "    return x"
     ],
     "language": "python",
     "metadata": {},
     "outputs": [],
     "prompt_number": 15
    },
    {
     "cell_type": "markdown",
     "metadata": {},
     "source": [
      "Now we have to calculate the output given theta values."
     ]
    },
    {
     "cell_type": "code",
     "collapsed": false,
     "input": [
      "def generate_linear_output(x, thetas):\n",
      "    tmp = np.insert(x, 0, 1, axis=1)\n",
      "    t = np.array(thetas)\n",
      "    y = [np.dot(val, t) for val in tmp]\n",
      "    return np.array(y).reshape(len(y), 1)"
     ],
     "language": "python",
     "metadata": {},
     "outputs": [],
     "prompt_number": 16
    },
    {
     "cell_type": "markdown",
     "metadata": {},
     "source": [
      "Do the same for logistic output, where the output is either 0 or 1."
     ]
    },
    {
     "cell_type": "code",
     "collapsed": false,
     "input": [
      "def generate_logistic_output(x, thetas):\n",
      "    tmp = np.insert(x, 0, 1, axis=1)\n",
      "    t = np.array(thetas)\n",
      "    ytmp = [np.dot(val, t) for val in tmp]\n",
      "    y = [0 if val < 0.5 else 1 for val in ytmp]\n",
      "    return np.array(y).reshape(len(y), 1)"
     ],
     "language": "python",
     "metadata": {},
     "outputs": [],
     "prompt_number": 17
    },
    {
     "cell_type": "markdown",
     "metadata": {},
     "source": [
      "Wrap it up nice and neat as if we just pulled it out of a file."
     ]
    },
    {
     "cell_type": "code",
     "collapsed": false,
     "input": [
      "def create_data(x, y):\n",
      "    return np.concatenate((x, y), axis=1)"
     ],
     "language": "python",
     "metadata": {},
     "outputs": [],
     "prompt_number": 18
    },
    {
     "cell_type": "markdown",
     "metadata": {},
     "source": [
      "Test linear regression again."
     ]
    },
    {
     "cell_type": "code",
     "collapsed": false,
     "input": [
      "x = generate_random_data(100, 3)\n",
      "y = generate_linear_output(x, [2, 3, 4, 5])\n",
      "d = create_data(x, y)\n",
      "thetas = linear_regression(d, alpha=0.05)\n",
      "print \"Gradient descent\", thetas\n",
      "xd, yd = get_data(d)\n",
      "solve_linear_regression(xd, yd)"
     ],
     "language": "python",
     "metadata": {},
     "outputs": [
      {
       "output_type": "stream",
       "stream": "stdout",
       "text": [
        "Gradient descent [ 2.00595486  2.96786018  3.99606762  4.96413892]\n"
       ]
      },
      {
       "metadata": {},
       "output_type": "pyout",
       "prompt_number": 19,
       "text": [
        "matrix([[ 2.],\n",
        "        [ 3.],\n",
        "        [ 4.],\n",
        "        [ 5.]])"
       ]
      }
     ],
     "prompt_number": 19
    },
    {
     "cell_type": "markdown",
     "metadata": {},
     "source": [
      "Test logistic regression."
     ]
    },
    {
     "cell_type": "code",
     "collapsed": false,
     "input": [
      "x = generate_random_data(1000, 3)\n",
      "y = generate_logistic_output(x, [2, 3, 4, 5])\n",
      "d = create_data(x, y)\n",
      "thetas = logistic_regression(d)\n",
      "print thetas"
     ],
     "language": "python",
     "metadata": {},
     "outputs": [
      {
       "output_type": "stream",
       "stream": "stdout",
       "text": [
        "[ 1.80411588  3.39723195  4.44518601  5.83452669]\n"
       ]
      }
     ],
     "prompt_number": 20
    },
    {
     "cell_type": "markdown",
     "metadata": {},
     "source": [
      "** my testing **"
     ]
    },
    {
     "cell_type": "code",
     "collapsed": false,
     "input": [],
     "language": "python",
     "metadata": {},
     "outputs": [],
     "prompt_number": 20
    },
    {
     "cell_type": "markdown",
     "metadata": {},
     "source": [
      "**final thoughts**"
     ]
    },
    {
     "cell_type": "markdown",
     "metadata": {},
     "source": [
      "I consider Gradient Descent to be an interesting application of hill-climbing. The algorithm starts off with random coefficients then incrementally increases or decreases the coefficients to see if they better fit the output data. The test involves calculating the mean-squared sum of the data set and comparing it to the previous calculation. The learning rate parameter scales the calcaultion and determines how fast the coefficients are incremented or decremented. Epsilon is the determining criteria for when to stop the algorithm.\n",
      "\n",
      "The linear regression algorithm can be solved analytically as shown above, therefore it is easy to compare the output of the algorithm to the truth and solver output. The logistic regression algorithm, however, does not have a solver therefore it is much harder to tell if the algorithm is working properly. Generally speaking, the more data points available to the algorithm, the better it does; but this isn't always the case. It turns out that trying to compute coefficients for classification (output rounded to 0 or 1) still has a lot of error."
     ]
    }
   ],
   "metadata": {}
  }
 ]
}