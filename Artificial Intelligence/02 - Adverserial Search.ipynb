{
 "metadata": {
  "name": ""
 },
 "nbformat": 3,
 "nbformat_minor": 0,
 "worksheets": [
  {
   "cells": [
    {
     "cell_type": "markdown",
     "metadata": {},
     "source": [
      "Module 2 - Programming Assignment\n",
      "=\n",
      "This is the notebook for the Module 2 Programming Assignment.\n",
      "\n",
      "Here are a few tips for using the iPython HTML notebook:\n",
      "\n",
      "1.  You can use tab . Try le<&lt;tab> and see the available functions.\n",
      "2.  You can change the type of cell by picking \"Code\" or \"Markdown\" from the menu at the left.\n",
      "3.  If you keep typing in a Markdown text area, you will eventually get scroll bars. To prevent this, hit return when you come to\n",
      "the end of the window. Only a double return creates a new paragraph.\n",
      "4.  You can find out more about Markdown text here: http://daringfireball.net/projects/markdown/ (Copy this link and put it \n",
      "in another tab for reference--Don't click it or you'll leave your notebook!).\n",
      "5.  Every so often, restart the kernel, clear all output and run all code cells so you can be certain that you didn't\n",
      "define something out of order.\n",
      "\n",
      "**You should rename this notebook to be &lt;your JHED id>\\_PR2.ipynb** Do it right now.\n",
      "\n",
      "**Make certain the entire notebook executes before you submit it.** (See Hint #5 above)\n",
      "\n",
      "Change the following variables:"
     ]
    },
    {
     "cell_type": "code",
     "collapsed": true,
     "input": [
      "name = \"Shehzad Qureshi\"\n",
      "jhed_id = \"squresh6\"\n",
      "if name == \"Student Name\" or jhed_id == \"sname1\":\n",
      "    raise Exception( \"Change the name and/or JHED ID...preferrably to yours.\")"
     ],
     "language": "python",
     "metadata": {},
     "outputs": [],
     "prompt_number": 1
    },
    {
     "cell_type": "markdown",
     "metadata": {},
     "source": [
      "Add whatever additional imports you require here. Stick with the standard libraries and those required by the class. The import\n",
      "gives you access to these functions: http://ipython.org/ipython-doc/stable/api/generated/IPython.core.display.html (Copy this link)\n",
      "Which, among other things, will permit you to display HTML as the result of evaluated code (see HTML() or display_html())."
     ]
    },
    {
     "cell_type": "code",
     "collapsed": true,
     "input": [
      "from IPython.core.display import *\n",
      "import numpy as np"
     ],
     "language": "python",
     "metadata": {},
     "outputs": [],
     "prompt_number": 2
    },
    {
     "cell_type": "markdown",
     "metadata": {},
     "source": [
      "We can represent a Normal Form Game for two players in Python as a list of list of tuples:"
     ]
    },
    {
     "cell_type": "code",
     "collapsed": false,
     "input": [
      "prisoners_dilemma = [\n",
      " [( -5, -5), (-1,-10)],\n",
      " [(-10, -1), (-2, -2)]]\n",
      "\n",
      "prisoners_dilemma"
     ],
     "language": "python",
     "metadata": {},
     "outputs": [
      {
       "metadata": {},
       "output_type": "pyout",
       "prompt_number": 3,
       "text": [
        "[[(-5, -5), (-1, -10)], [(-10, -1), (-2, -2)]]"
       ]
      }
     ],
     "prompt_number": 3
    },
    {
     "cell_type": "markdown",
     "metadata": {},
     "source": [
      "*function* **payoff**\n",
      "\n",
      "Write a function that takes a game, player 0's strategy as an integer (0-based) and player 1's strategy as an integer and returns the payoff. Player 0's payoff\n",
      "is the first entry in the tuple. Player 1's payoff is the second entry in the tuple."
     ]
    },
    {
     "cell_type": "code",
     "collapsed": false,
     "input": [
      "def payoff( game, player_0, player_1):\n",
      "    return game[player_0][player_1]"
     ],
     "language": "python",
     "metadata": {},
     "outputs": [],
     "prompt_number": 4
    },
    {
     "cell_type": "code",
     "collapsed": false,
     "input": [
      "print payoff(prisoners_dilemma, 0, 0) == (-5, -5)\n",
      "print payoff(prisoners_dilemma, 0, 1) == (-1, -10)\n",
      "print payoff(prisoners_dilemma, 1, 0) == (-10, -1)\n",
      "print payoff(prisoners_dilemma, 1, 1) == (-2, -2)"
     ],
     "language": "python",
     "metadata": {},
     "outputs": [
      {
       "output_type": "stream",
       "stream": "stdout",
       "text": [
        "True\n",
        "True\n",
        "True\n",
        "True\n"
       ]
      }
     ],
     "prompt_number": 5
    },
    {
     "cell_type": "markdown",
     "metadata": {},
     "source": [
      "For this part of the assignment, you should make up three test games (2x2, 3x3, and 4x4) that you know have a pure strategy equilibrium *and* can be solved using\n",
      "successive elimination of dominated strategies and three test games (2x2, 3x3, 4x4) that you know either do not have a pure strategy equilibrium or\n",
      "have a pure strategy equilibrium but cannot be solved by using successive elimination of dominated strategies. (**Extra**: can you write a function that generates random solvable games?)"
     ]
    },
    {
     "cell_type": "code",
     "collapsed": false,
     "input": [
      "solvable_0 = [[(20, 20), (28, 15)], \n",
      "              [(15, 28), (25, 25)]]\n",
      "solvable_1 = [[(10, 10), (14, 12), (14, 15)], \n",
      "              [(12, 14), (20, 20), (28, 15)],\n",
      "              [(15, 14), (15, 28), (25, 25)]]\n",
      "solvable_2 = [[(10, 10), (14, 12), (14, 15), (10, 10)], \n",
      "              [(12, 14), (20, 20), (28, 15), (14, 12)],\n",
      "              [(15, 14), (15, 28), (25, 25), (14, 15)],\n",
      "              [(5, 6), (9, 1), (2, 3), (0, 4)]]\n",
      "not_solvable_0 = [[(20, 20), (16, 15)], \n",
      "                  [(19, 23), (25, 25)]]\n",
      "not_solvable_1 = [[(10, 10), (22, 12), (14, 15)], \n",
      "                  [(12, 22), (20, 20), (28, 15)],\n",
      "                  [(15, 14), (15, 28), (25, 25)]]\n",
      "not_solvable_2 = [[(10, 10), (14, 12), (14, 15), (10, 10)], \n",
      "                  [(12, 14), (20, 20), (28, 15), (14, 12)],\n",
      "                  [(15, 14), (15, 28), (25, 25), (14, 15)],\n",
      "                  [(9, 15), (14, 12), (14, 15), (10, 10)]]"
     ],
     "language": "python",
     "metadata": {},
     "outputs": [],
     "prompt_number": 6
    },
    {
     "cell_type": "markdown",
     "metadata": {},
     "source": [
      "Now write a function that either solves a game by successive elimination of **strongly** dominated strategies or returns \"no solution found\". Write however many helper functions as you need, one per cell, with Markdown documentation that discusses their implementation and the AI concepts behind them (where appropriate)."
     ]
    },
    {
     "cell_type": "markdown",
     "metadata": {},
     "source": [
      "*function* **get_strategy_matrix**\n",
      "\n",
      "We first need a function that will return the strategy of a specific player. Our game is hopefully constrained to two players with player 0's strategies as rows and player 1's strategies as columns."
     ]
    },
    {
     "cell_type": "code",
     "collapsed": false,
     "input": [
      "def get_strategy_matrix(game, player):\n",
      "    shape = np.array(game).shape\n",
      "    if player == 0:\n",
      "        return np.delete(game, 1, 2).reshape(shape[0], shape[1], 1)\n",
      "    else:\n",
      "        return np.delete(game, 0, 2).transpose().reshape(shape[0], shape[1], 1)"
     ],
     "language": "python",
     "metadata": {},
     "outputs": [],
     "prompt_number": 7
    },
    {
     "cell_type": "markdown",
     "metadata": {},
     "source": [
      "Test to ensure we get the correct matrix as a result. The strategies will be returned as rows."
     ]
    },
    {
     "cell_type": "code",
     "collapsed": false,
     "input": [
      "print np.all(get_strategy_matrix(prisoners_dilemma, 0).reshape(2,2) == np.array([(-5, -1), (-10, -2)]))\n",
      "print np.all(get_strategy_matrix(prisoners_dilemma, 1).reshape(2,2) == np.array([(-5, -1), (-10, -2)]))"
     ],
     "language": "python",
     "metadata": {},
     "outputs": [
      {
       "output_type": "stream",
       "stream": "stdout",
       "text": [
        "True\n",
        "True\n"
       ]
      }
     ],
     "prompt_number": 8
    },
    {
     "cell_type": "markdown",
     "metadata": {},
     "source": [
      "*function* **get_strongly_dominated_strategy**\n",
      "\n",
      "Now we need a way to compare strategies and return a strongly dominated one. We do this by iterating through the strategy matrix and comparing each strategy with the other strategies. The function returns the index of the first strongly dominated strategy."
     ]
    },
    {
     "cell_type": "code",
     "collapsed": false,
     "input": [
      "def get_strongly_dominated_strategy(sMatrix):\n",
      "    for index in xrange(len(sMatrix)):\n",
      "        c = np.delete(sMatrix, index, 0)\n",
      "        if np.all(c > sMatrix[index]):\n",
      "            return index\n",
      "    return None"
     ],
     "language": "python",
     "metadata": {},
     "outputs": [],
     "prompt_number": 9
    },
    {
     "cell_type": "markdown",
     "metadata": {},
     "source": [
      "Let's test to make sure we're getting the right output again. We can use the prisoner's dillemna again."
     ]
    },
    {
     "cell_type": "code",
     "collapsed": false,
     "input": [
      "print get_strongly_dominated_strategy(get_strategy_matrix(prisoners_dilemma, 0)) == 1\n",
      "print get_strongly_dominated_strategy(get_strategy_matrix(prisoners_dilemma, 1)) == 1"
     ],
     "language": "python",
     "metadata": {},
     "outputs": [
      {
       "output_type": "stream",
       "stream": "stdout",
       "text": [
        "True\n",
        "True\n"
       ]
      }
     ],
     "prompt_number": 10
    },
    {
     "cell_type": "markdown",
     "metadata": {},
     "source": [
      "*function* **get_strategy_result**\n",
      "\n",
      "Since the output of the solve_game function is actually the payoff, we need to reverse-translate it to an index that will give us (strategy0, strategy1) as an output."
     ]
    },
    {
     "cell_type": "code",
     "collapsed": false,
     "input": [
      "def get_strategy_result(game, payoff):\n",
      "    return [(x,y) for x, row in enumerate(game) for y, col in enumerate(row) if (col == payoff).all()][0]"
     ],
     "language": "python",
     "metadata": {},
     "outputs": [],
     "prompt_number": 11
    },
    {
     "cell_type": "markdown",
     "metadata": {},
     "source": [
      "Another simple function test to make sure the output is correct."
     ]
    },
    {
     "cell_type": "code",
     "collapsed": false,
     "input": [
      "print get_strategy_result(np.array(prisoners_dilemma), (-5, -5)) == (0, 0)\n",
      "print get_strategy_result(np.array(prisoners_dilemma), (-2, -2)) == (1, 1)\n",
      "print get_strategy_result(np.array(prisoners_dilemma), (-1, -10)) == (0, 1)"
     ],
     "language": "python",
     "metadata": {},
     "outputs": [
      {
       "output_type": "stream",
       "stream": "stdout",
       "text": [
        "True\n",
        "True\n",
        "True\n"
       ]
      }
     ],
     "prompt_number": 12
    },
    {
     "cell_type": "markdown",
     "metadata": {},
     "source": [
      "*function* **solve_game**\n",
      "\n",
      "The algorithm used to solve a game in normal form is a simple iterative process that eliminates strongly dominated strategies until the game is reduced to a single strategy. On every iteration it gets the strategy matrix from the current player - which is alternated every round - and proceeds to find a strongly dominated strategy. If one is found, that strategy is eliminated from the game. If one is not found it proceeds to the second player and repeats the process. If neither player 1 nor player 2 have a strongly dominated strategy then it is assumed that there is no nash equilibrium and no solution is returned."
     ]
    },
    {
     "cell_type": "code",
     "collapsed": false,
     "input": [
      "def solve_game(game, debug=False):\n",
      "    game_copy, player, previous_strategy_failed = np.array(game), np.random.randint(0, 2, 1)[0], False\n",
      "    while True:\n",
      "        if game_copy.shape == (1, 1, 2): return get_strategy_result(game, game_copy)\n",
      "        dominated_strategy = get_strongly_dominated_strategy(get_strategy_matrix(game_copy, player))\n",
      "        if dominated_strategy is not None:\n",
      "            previous_strategy_failed = False\n",
      "            game_copy = np.delete(game_copy, dominated_strategy, 0)\n",
      "            game_copy = np.delete(game_copy, dominated_strategy, 1)\n",
      "        else:\n",
      "            if previous_strategy_failed is True: return \"no solution found\"\n",
      "            else: previous_strategy_failed = True\n",
      "        player = 0 if player == 1 else 1"
     ],
     "language": "python",
     "metadata": {},
     "outputs": [],
     "prompt_number": 13
    },
    {
     "cell_type": "markdown",
     "metadata": {},
     "source": [
      "And now we test with all our game matrices above."
     ]
    },
    {
     "cell_type": "code",
     "collapsed": false,
     "input": [
      "print solve_game(prisoners_dilemma) == (0, 0)\n",
      "print solve_game(solvable_0) == (0, 0)\n",
      "print solve_game(solvable_1) == (1, 1)\n",
      "print solve_game(solvable_2) == (1, 1)\n",
      "print solve_game(not_solvable_0) == \"no solution found\"\n",
      "print solve_game(not_solvable_1) == \"no solution found\"\n",
      "print solve_game(not_solvable_2) == \"no solution found\""
     ],
     "language": "python",
     "metadata": {},
     "outputs": [
      {
       "output_type": "stream",
       "stream": "stdout",
       "text": [
        "True\n",
        "True\n",
        "True\n",
        "True\n",
        "True\n",
        "True\n",
        "True\n"
       ]
      }
     ],
     "prompt_number": 14
    },
    {
     "cell_type": "markdown",
     "metadata": {},
     "source": [
      "__Summary and more__\n",
      "\n",
      "This assignment wasn't as hard as I thought it would be. The algorithm itself is a very simple iterative process that reduces a matrix until a solution is found. I actually spent more time trying to get Numpy to do what I wanted it to do... and in all fairness, I haven't spent a lot of time with Numpy.\n",
      "\n",
      "The process is very simple. Given a game-state matrix, which is a matrix of tuples, first we get the list of strategies for player 1. This was probably the hardest part of the assignment because our state matrix isn't really a matrix; it's a list of lists of tuples which aren't the easiest to manipulate. Numpy has fantastic array support and has the numpy.delete method which allowed me to delete a tuple from the entire state matrix without looping through everything!\n",
      "\n",
      "Once we have a strategy matrix, which is a list of lists of integers, the next part is to compare all of them. I did struggle to see if there was a \"pythonic\" way of comparing all iterations in the matrix but I couldn't find one. In the end I had to settle for looping through the list and using numpy to determine if indeed a dominated stategy exists.\n",
      "\n",
      "Once we find a strongly dominated strategy it is trivial to delete it from the state matrix. The process then repeats until a single payoff remains. Since I was actually deleting rows/columns from the state matrix I ended up using some pythonic hackery madness to figure out the index of the payoff in the original array. I'm sure there is a better way of doing this."
     ]
    },
    {
     "cell_type": "markdown",
     "metadata": {},
     "source": [
      "__Randomly generated games__\n",
      "\n",
      "So let's see if we can write some functions to generate random games. First a function to generate a random list of numbers."
     ]
    },
    {
     "cell_type": "code",
     "collapsed": false,
     "input": [
      "def generate_random_numbers(length, low=0, high=10):\n",
      "    return np.random.randint(low, high, length)"
     ],
     "language": "python",
     "metadata": {},
     "outputs": [],
     "prompt_number": 15
    },
    {
     "cell_type": "markdown",
     "metadata": {},
     "source": [
      "Test it..."
     ]
    },
    {
     "cell_type": "code",
     "collapsed": false,
     "input": [
      "print generate_random_numbers(5)\n",
      "print generate_random_numbers(6, 2)\n",
      "print generate_random_numbers(10, 5, 15)"
     ],
     "language": "python",
     "metadata": {},
     "outputs": [
      {
       "output_type": "stream",
       "stream": "stdout",
       "text": [
        "[5 8 1 3 1]\n",
        "[4 5 9 3 8 9]\n",
        "[11  8  6 12 14 10  5 10 10 13]\n"
       ]
      }
     ],
     "prompt_number": 16
    },
    {
     "cell_type": "markdown",
     "metadata": {},
     "source": [
      "Looks like it works like it should. Now we need to use it to generate a game state matrix."
     ]
    },
    {
     "cell_type": "code",
     "collapsed": false,
     "input": [
      "def generate_random_game(game_size, low=0, high=10):\n",
      "    return generate_random_numbers(game_size * game_size * 2, low, high).reshape(game_size, game_size, 2)"
     ],
     "language": "python",
     "metadata": {},
     "outputs": [],
     "prompt_number": 17
    },
    {
     "cell_type": "markdown",
     "metadata": {},
     "source": [
      "Let's see if it works. Let's start with simple 2x2 and 3x3 matrices."
     ]
    },
    {
     "cell_type": "code",
     "collapsed": false,
     "input": [
      "print generate_random_game(2)\n",
      "print generate_random_game(3)"
     ],
     "language": "python",
     "metadata": {},
     "outputs": [
      {
       "output_type": "stream",
       "stream": "stdout",
       "text": [
        "[[[0 9]\n",
        "  [7 5]]\n",
        "\n",
        " [[2 8]\n",
        "  [8 2]]]\n",
        "[[[9 6]\n",
        "  [3 3]\n",
        "  [9 7]]\n",
        "\n",
        " [[0 8]\n",
        "  [6 3]\n",
        "  [1 3]]\n",
        "\n",
        " [[5 4]\n",
        "  [5 4]\n",
        "  [8 4]]]\n"
       ]
      }
     ],
     "prompt_number": 18
    },
    {
     "cell_type": "markdown",
     "metadata": {},
     "source": [
      "Now let's see if we can generate *solvable* games. The iteration count is a failsafe to keep the function from potentially running forever."
     ]
    },
    {
     "cell_type": "code",
     "collapsed": false,
     "input": [
      "def generate_solvable_game(game_size, low=0, high=10, iteration_count=100):\n",
      "    while iteration_count > 0:\n",
      "        iteration_count = iteration_count - 1\n",
      "        game = generate_random_game(game_size, low, high)\n",
      "        solution = solve_game(game)\n",
      "        if solution != \"no solution found\":\n",
      "            return game, solution\n",
      "    return None, None"
     ],
     "language": "python",
     "metadata": {},
     "outputs": [],
     "prompt_number": 19
    },
    {
     "cell_type": "markdown",
     "metadata": {},
     "source": [
      "Add some code to display the game matrix in a table."
     ]
    },
    {
     "cell_type": "code",
     "collapsed": false,
     "input": [
      "from IPython.display import HTML\n",
      "\n",
      "def print_game(game):\n",
      "    if game is None: return\n",
      "    h = \"<table>\"\n",
      "    for row in game:\n",
      "        h += \"<tr>\"\n",
      "        for col in row:\n",
      "            h += \"<td>{0}</td>\".format(\" / \".join([str(x) for x in col]))\n",
      "        h += \"</tr>\"\n",
      "    h += \"</table>\"\n",
      "    return HTML(h)"
     ],
     "language": "python",
     "metadata": {},
     "outputs": [],
     "prompt_number": 20
    },
    {
     "cell_type": "markdown",
     "metadata": {},
     "source": [
      "Let's try to generate a 2x2 game since those are easy to solve by inspection."
     ]
    },
    {
     "cell_type": "code",
     "collapsed": false,
     "input": [
      "game, solution = generate_solvable_game(2)\n",
      "print \"Solution: {0}\".format(solution)\n",
      "print_game(game)\n"
     ],
     "language": "python",
     "metadata": {},
     "outputs": [
      {
       "output_type": "stream",
       "stream": "stdout",
       "text": [
        "Solution: (1, 1)\n"
       ]
      },
      {
       "html": [
        "<table><tr><td>1 / 3</td><td>0 / 7</td></tr><tr><td>4 / 2</td><td>5 / 5</td></tr></table>"
       ],
       "metadata": {},
       "output_type": "pyout",
       "prompt_number": 21,
       "text": [
        "<IPython.core.display.HTML at 0x1ab5270>"
       ]
      }
     ],
     "prompt_number": 21
    },
    {
     "cell_type": "code",
     "collapsed": false,
     "input": [
      "game, solution = generate_solvable_game(3)\n",
      "print \"Solution: {0}\".format(solution)\n",
      "print_game(game)\n"
     ],
     "language": "python",
     "metadata": {},
     "outputs": [
      {
       "output_type": "stream",
       "stream": "stdout",
       "text": [
        "Solution: (0, 0)\n"
       ]
      },
      {
       "html": [
        "<table><tr><td>4 / 3</td><td>4 / 0</td><td>1 / 4</td></tr><tr><td>5 / 6</td><td>1 / 1</td><td>2 / 9</td></tr><tr><td>7 / 9</td><td>0 / 0</td><td>4 / 3</td></tr></table>"
       ],
       "metadata": {},
       "output_type": "pyout",
       "prompt_number": 22,
       "text": [
        "<IPython.core.display.HTML at 0x1ab5450>"
       ]
      }
     ],
     "prompt_number": 22
    },
    {
     "cell_type": "markdown",
     "metadata": {},
     "source": [
      "So far so good. I'm not sure if the generated games actually contain a Nash equilibrium, but they do have solutions from successive elimination."
     ]
    },
    {
     "cell_type": "code",
     "collapsed": false,
     "input": [
      "game, solution = generate_solvable_game(4, high=100)\n",
      "print \"Solution: {0}\".format(solution)\n",
      "print_game(game)\n"
     ],
     "language": "python",
     "metadata": {},
     "outputs": [
      {
       "output_type": "stream",
       "stream": "stdout",
       "text": [
        "Solution: (1, 1)\n"
       ]
      },
      {
       "html": [
        "<table><tr><td>78 / 85</td><td>36 / 98</td><td>62 / 72</td><td>79 / 78</td></tr><tr><td>81 / 24</td><td>37 / 20</td><td>27 / 3</td><td>53 / 26</td></tr><tr><td>53 / 60</td><td>30 / 64</td><td>51 / 35</td><td>98 / 15</td></tr><tr><td>7 / 77</td><td>18 / 21</td><td>26 / 66</td><td>3 / 40</td></tr></table>"
       ],
       "metadata": {},
       "output_type": "pyout",
       "prompt_number": 25,
       "text": [
        "<IPython.core.display.HTML at 0x1ab5170>"
       ]
      }
     ],
     "prompt_number": 25
    },
    {
     "cell_type": "markdown",
     "metadata": {},
     "source": [
      "Need to increase the limits if we want bigger tables. Will probably need to increase the failsafe iteration count to generate bigger tables."
     ]
    },
    {
     "cell_type": "code",
     "collapsed": false,
     "input": [
      "game, solution = generate_solvable_game(10, high=10000, iteration_count=1000)\n",
      "print \"Solution: {0}\".format(solution)\n",
      "print_game(game)\n"
     ],
     "language": "python",
     "metadata": {},
     "outputs": [
      {
       "output_type": "stream",
       "stream": "stdout",
       "text": [
        "Solution: None\n"
       ]
      }
     ],
     "prompt_number": 24
    },
    {
     "cell_type": "markdown",
     "metadata": {},
     "source": [
      "Seems impossible to find a solvable game with a big enough size :("
     ]
    },
    {
     "cell_type": "code",
     "collapsed": false,
     "input": [],
     "language": "python",
     "metadata": {},
     "outputs": [],
     "prompt_number": 24
    }
   ],
   "metadata": {}
  }
 ]
}