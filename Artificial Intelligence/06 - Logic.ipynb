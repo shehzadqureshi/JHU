{
 "metadata": {
  "name": "",
  "signature": "sha256:816d5dfff02af569a395605f24c2923c701b657995f744366accc6b6c7088edb"
 },
 "nbformat": 3,
 "nbformat_minor": 0,
 "worksheets": [
  {
   "cells": [
    {
     "cell_type": "markdown",
     "metadata": {},
     "source": [
      "Module 6 - Programming Assignment\n",
      "=\n",
      "This is the notebook for the Module 6 Programming Assignment.\n",
      "\n",
      "Here are a few tips for using the iPython HTML notebook:\n",
      "\n",
      "1.  You can use tab . Try le<&lt;tab> and see the available functions.\n",
      "2.  You can change the type of cell by picking \"Code\" or \"Markdown\" from the menu at the left.\n",
      "3.  If you keep typing in a Markdown text area, you will eventually get scroll bars. To prevent this, hit return when you come to\n",
      "the end of the window. Only a double return creates a new paragraph.\n",
      "4.  You can find out more about Markdown text here: http://daringfireball.net/projects/markdown/ (Copy this link and put it \n",
      "in another tab for reference--Don't click it or you'll leave your notebook!).\n",
      "5.  Every so often, restart the kernel, clear all output and run all code cells so you can be certain that you didn't\n",
      "define something out of order.\n",
      "\n",
      "**You should rename this notebook to be &lt;your JHED id>_PR6\\.ipynb** Do it right now.\n",
      "\n",
      "**Make certain the entire notebook executes before you submit it.** (See Hint #5 above)\n",
      "\n",
      "Change the following variables:"
     ]
    },
    {
     "cell_type": "code",
     "collapsed": true,
     "input": [
      "name = \"Shehzad Qureshi\"\n",
      "jhed_id = \"squresh6\"\n",
      "if name == \"Student Name\" or jhed_id == \"sname1\":\n",
      "    raise Exception( \"Change the name and/or JHED ID...preferrably to yours.\")"
     ],
     "language": "python",
     "metadata": {},
     "outputs": [],
     "prompt_number": 1
    },
    {
     "cell_type": "markdown",
     "metadata": {},
     "source": [
      "Add whatever additional imports you require here. Stick with the standard libraries and those required by the class. The import\n",
      "gives you access to these functions: http://ipython.org/ipython-doc/stable/api/generated/IPython.core.display.html (Copy this link)\n",
      "Which, among other things, will permit you to display HTML as the result of evaluated code (see HTML() or display_html())."
     ]
    },
    {
     "cell_type": "code",
     "collapsed": true,
     "input": [
      "from IPython.core.display import *\n",
      "from StringIO import StringIO"
     ],
     "language": "python",
     "metadata": {},
     "outputs": [],
     "prompt_number": 2
    },
    {
     "cell_type": "markdown",
     "metadata": {},
     "source": [
      "For this assignment you're going to implement the unification algorithm. You will need this for a future module.\n",
      "\n",
      "Here is imperative pseudocode for the algorithm:\n",
      "\n",
      "<code>\n",
      "def unify( exp1, exp2):\n",
      "    # base cases\n",
      "    if exp1 and exp2 are constants or the empty list:\n",
      "        if exp1 = exp2 then return {}\n",
      "        else return FAIL\n",
      "    if exp1 is a variable:\n",
      "        if exp1 occurs in exp2 then return FAIL\n",
      "        else return {exp1/exp2}\n",
      "    if exp2 is a variable:\n",
      "        if exp2 occurs in exp1 then return FAIL\n",
      "        else return {exp2/exp1}\n",
      "\n",
      "    # induction\n",
      "    first1 = first element of exp1\n",
      "    first2 = first element of exp2\n",
      "    result1 = unify( first1, first2)\n",
      "    if result1 = FAIL then return FAIL\n",
      "    apply result1 to rest of exp1 and exp2\n",
      "    result2 = unify( rest of exp1, rest of exp2)\n",
      "    if result2 = FAIL then return FAIL\n",
      "    return composition of result1 and result2\n",
      "</code>\n",
      "\n",
      "unify can return fail (use None), {} (the empty substitution list) or a substitution list. This sometimes confuses people...\"Sam\" unifying with \"Sam\" is not a failure so you return {} because there were no variables so there were no substitutions.\n",
      "\n",
      "Use a very simple approach...let variables be Strings that start with \"?\" and let constants be all other Strings. You can write functions that identify whether a String is a variable or constant. An expression can be a List. In this regard, it might be useful to know that:\n",
      "\n",
      "<code>\n",
      "type( \"a\")\n",
      "&lt;type 'str'>\n",
      "type( \"a\") == str\n",
      "True\n",
      "type( \"a\") == list\n",
      "False\n",
      "type( [\"a\"]) == list\n",
      "True\n",
      "</code>\n",
      "\n",
      "\n",
      "None is Python's version of null or nil in other languages and can be used for fail.\n",
      "\n",
      "You can represent an expression as a List of expressions, variables and constants:\n",
      "\n",
      "<code>\n",
      "    likes(Bill, Sam)\n",
      "    father( ?x, Sam)\n",
      "</code>\n",
      "\n",
      "can be written as:\n",
      "\n",
      "<code>\n",
      "    [\"likes\" \"Bill\" \"Sam\"]\n",
      "    [\"father\" \"?x\" \"Sam\"]\n",
      "</code>.\n",
      "\n",
      "these can, of course, be nested. These means that all that is expected of you in your examples is to write:\n",
      "\n",
      "<code>\n",
      "    unify( [\"likes\", \"Bill\", \"Sam\"], [\"likes\", \"?x\", \"Sam\"]) \n",
      "</code>\n",
      "\n",
      "and not:\n",
      "\n",
      "<code>\n",
      "    unify( \"likes( Bill, Sam)\", \"likes( ?x, Sam)\")\n",
      "</code>\n",
      "\n",
      "unless...you may, for __extra credit__, implement a simple parser so that you can write the last line for your examples.\n",
      "\n",
      "One easy way to do this is to use an S-expression syntax (like Lisp):\n",
      "\n",
      "<code>\n",
      "    unify( parse( \"(likes Bill ?x)\"), parse( \"(likes ?y Sam)\"))\n",
      "</code>\n",
      "\n",
      "However, make sure you have the assignment working before embarking on the extra credit. Show **10 examples** of the unify() algorithm being called. 5 with it succeeding and 5 with it failing. They should all be syntactically different (that is, I shouldn't be able to substitute names, for example, \"hate\" for \"like\" and have it be the same example).\n",
      "\n",
      "I will test your code with my own examples.\n",
      "\n",
      "Put all of your functions, objects and documentation below here."
     ]
    },
    {
     "cell_type": "markdown",
     "metadata": {},
     "source": [
      "##Unification\n",
      "\n",
      "Let's start by defining helper functions to determine if statements are a constant, variable, or expression. Constants are simple string literals, variables are string literals that begin with \"?\" and expressions are lists of constants and variables."
     ]
    },
    {
     "cell_type": "code",
     "collapsed": false,
     "input": [
      "def is_constant(x):\n",
      "    return type(x) == str and not x.startswith(\"?\")"
     ],
     "language": "python",
     "metadata": {},
     "outputs": [],
     "prompt_number": 3
    },
    {
     "cell_type": "code",
     "collapsed": false,
     "input": [
      "def is_variable(x):\n",
      "    return type(x) == str and x.startswith(\"?\")"
     ],
     "language": "python",
     "metadata": {},
     "outputs": [],
     "prompt_number": 4
    },
    {
     "cell_type": "code",
     "collapsed": false,
     "input": [
      "def is_list(x):\n",
      "    return type(x) == list"
     ],
     "language": "python",
     "metadata": {},
     "outputs": [],
     "prompt_number": 5
    },
    {
     "cell_type": "markdown",
     "metadata": {},
     "source": [
      "Now for some basic unit-testing to ensure that it works."
     ]
    },
    {
     "cell_type": "code",
     "collapsed": false,
     "input": [
      "print is_constant(\"Sam\") == True\n",
      "print is_constant(\"?x\") == False\n",
      "print is_constant([\"likes\", \"Bill\", \"Sam\"]) == False\n",
      "print is_variable(\"Sam\") == False\n",
      "print is_variable(\"?x\") == True\n",
      "print is_variable([\"likes\", \"Bill\", \"Sam\"]) == False\n",
      "print is_list(\"Sam\") == False\n",
      "print is_list(\"?x\") == False\n",
      "print is_list([\"likes\",\"Bill\",\"Sam\"]) == True"
     ],
     "language": "python",
     "metadata": {},
     "outputs": [
      {
       "output_type": "stream",
       "stream": "stdout",
       "text": [
        "True\n",
        "True\n",
        "True\n",
        "True\n",
        "True\n",
        "True\n",
        "True\n",
        "True\n",
        "True\n"
       ]
      }
     ],
     "prompt_number": 6
    },
    {
     "cell_type": "markdown",
     "metadata": {},
     "source": [
      "We need to be able to parse the variable name from the string. This is as simple as removing the \"?\" from the beginning. We need to do the reverse as well, i.e. make a variable string from a variable."
     ]
    },
    {
     "cell_type": "code",
     "collapsed": false,
     "input": [
      "def get_varname(var):\n",
      "    return var[1:]"
     ],
     "language": "python",
     "metadata": {},
     "outputs": [],
     "prompt_number": 7
    },
    {
     "cell_type": "code",
     "collapsed": false,
     "input": [
      "def make_var(var):\n",
      "    return \"?{0}\".format(var)"
     ],
     "language": "python",
     "metadata": {},
     "outputs": [],
     "prompt_number": 8
    },
    {
     "cell_type": "code",
     "collapsed": false,
     "input": [
      "print get_varname(\"?x\") == \"x\"\n",
      "print get_varname(\"?son\") == \"son\"\n",
      "print make_var(\"x\") == \"?x\"\n",
      "print make_var(\"son\") == \"?son\""
     ],
     "language": "python",
     "metadata": {},
     "outputs": [
      {
       "output_type": "stream",
       "stream": "stdout",
       "text": [
        "True\n",
        "True\n",
        "True\n",
        "True\n"
       ]
      }
     ],
     "prompt_number": 9
    },
    {
     "cell_type": "markdown",
     "metadata": {},
     "source": [
      "We need to be able to get the value of a statement. We need to take into account that some values may be of the form \"F(A)\" as well as the normal \"Fred\", etc."
     ]
    },
    {
     "cell_type": "code",
     "collapsed": false,
     "input": [
      "def get_value(val):\n",
      "    if is_list(val):\n",
      "        lval, rval = val[0], val[1:]\n",
      "        if is_list(rval[0]): return \"{0}({1})\".format(lval, get_value(rval[0]))\n",
      "        else: return \"{0}({1})\".format(lval, \",\".join(rval))\n",
      "    else:\n",
      "        return val"
     ],
     "language": "python",
     "metadata": {},
     "outputs": [],
     "prompt_number": 10
    },
    {
     "cell_type": "code",
     "collapsed": false,
     "input": [
      "print get_value(\"Fred\") == \"Fred\"\n",
      "print get_value([\"son\", \"Barney\"]) == \"son(Barney)\"\n",
      "print get_value([\"P\", [\"F\", \"C\"]]) == \"P(F(C))\""
     ],
     "language": "python",
     "metadata": {},
     "outputs": [
      {
       "output_type": "stream",
       "stream": "stdout",
       "text": [
        "True\n",
        "True\n",
        "True\n"
       ]
      }
     ],
     "prompt_number": 11
    },
    {
     "cell_type": "markdown",
     "metadata": {},
     "source": [
      "Now we need to format our output substitution."
     ]
    },
    {
     "cell_type": "code",
     "collapsed": false,
     "input": [
      "def pair(x, y):\n",
      "    var = get_varname(x)\n",
      "    val = get_value(y)\n",
      "    return \"{0}/{1}\".format(var, val)"
     ],
     "language": "python",
     "metadata": {},
     "outputs": [],
     "prompt_number": 12
    },
    {
     "cell_type": "markdown",
     "metadata": {},
     "source": [
      "And another function to test if a variable occurs in another expression."
     ]
    },
    {
     "cell_type": "code",
     "collapsed": false,
     "input": [
      "def occurs(x, y):\n",
      "    return True if x in y else False"
     ],
     "language": "python",
     "metadata": {},
     "outputs": [],
     "prompt_number": 13
    },
    {
     "cell_type": "markdown",
     "metadata": {},
     "source": [
      "We will need a way to extract a variable and value from a formatted substitution."
     ]
    },
    {
     "cell_type": "code",
     "collapsed": false,
     "input": [
      "def parse_substitution(sub):\n",
      "    var = sub.split(\"/\")\n",
      "    return (var[0], var[1])"
     ],
     "language": "python",
     "metadata": {},
     "outputs": [],
     "prompt_number": 14
    },
    {
     "cell_type": "markdown",
     "metadata": {},
     "source": [
      "Now we're getting into the heart of the algorithm.\n",
      "\n",
      "This function will propagate a substitution into an expression. If the expression is a compound expression, it recurses."
     ]
    },
    {
     "cell_type": "code",
     "collapsed": false,
     "input": [
      "def propagate(x, sub):\n",
      "    if len(sub) == 0 or len(x) == 0: return x\n",
      "    var, value = parse_substitution(sub[0])\n",
      "    for i, xval in enumerate(x):\n",
      "        if is_list(xval): x[i] = propagate(xval, sub)\n",
      "        elif make_var(var) in xval:\n",
      "            x[i] = value\n",
      "    return x"
     ],
     "language": "python",
     "metadata": {},
     "outputs": [],
     "prompt_number": 15
    },
    {
     "cell_type": "markdown",
     "metadata": {},
     "source": [
      "This is a helper function to specifically unify a variable and another expression. A check was added to ensure that the variable was not already in the output."
     ]
    },
    {
     "cell_type": "code",
     "collapsed": false,
     "input": [
      "def unify_variable(x, y, th):\n",
      "    if occurs(x, y): return None\n",
      "    else:\n",
      "        if pair(x, y) not in th: th.append(pair(x, y))\n",
      "        return th"
     ],
     "language": "python",
     "metadata": {},
     "outputs": [],
     "prompt_number": 16
    },
    {
     "cell_type": "markdown",
     "metadata": {},
     "source": [
      "This is going to be the main worker function. The order of processing is as follows:\n",
      "\n",
      "- Checks for failure\n",
      "- Checks for empty expressions\n",
      "- Checks for matching constants\n",
      "- Processes variables\n",
      "- Processes compound expressions by recursion as necessary"
     ]
    },
    {
     "cell_type": "code",
     "collapsed": false,
     "input": [
      "def unify_expression(x, y, th):\n",
      "    if th is None: return th\n",
      "    elif is_list(x) and is_list(y) and len(x) == 0 and len(y) == 0: return th if x == y else None\n",
      "    elif is_constant(x) and is_constant(y): return th if x == y else None\n",
      "    elif is_variable(x): return unify_variable(x, y, th)\n",
      "    elif is_variable(y): return unify_variable(y, x, th)\n",
      "    \n",
      "    result1 = unify(x[0], y[0])\n",
      "    if result1 is None: return None\n",
      "    if len(result1) > 0: x[1:], y[1:] = propagate(x[1:], result1), propagate(y[1:], result1)\n",
      "    result2 = unify(x[1:], y[1:])\n",
      "    if result2 is None: return None\n",
      "    return result1 + result2"
     ],
     "language": "python",
     "metadata": {},
     "outputs": [],
     "prompt_number": 17
    },
    {
     "cell_type": "markdown",
     "metadata": {},
     "source": [
      "This is our entry point into the unification algorithm. Had to make this separate from the function above because IPython was acting weird by saving the output of _th_ for every instance. Even for different cells run later."
     ]
    },
    {
     "cell_type": "code",
     "collapsed": false,
     "input": [
      "def unify(x, y):\n",
      "    th = list()\n",
      "    return unify_expression(x, y, th)"
     ],
     "language": "python",
     "metadata": {},
     "outputs": [],
     "prompt_number": 18
    },
    {
     "cell_type": "markdown",
     "metadata": {},
     "source": [
      "Let's start with some basic testing of constants and variables."
     ]
    },
    {
     "cell_type": "code",
     "collapsed": false,
     "input": [
      "print unify(\"Sam\", \"Sam\") == []\n",
      "print unify(\"Sam\", \"Bill\") == None\n",
      "print unify(\"?x\", \"Bill\") == [\"x/Bill\"]\n",
      "print unify(\"Bill\", \"?x\") == [\"x/Bill\"]\n",
      "print unify(\"?x\", \"?x\") == None\n"
     ],
     "language": "python",
     "metadata": {},
     "outputs": [
      {
       "output_type": "stream",
       "stream": "stdout",
       "text": [
        "True\n",
        "True\n",
        "True\n",
        "True\n",
        "True\n"
       ]
      }
     ],
     "prompt_number": 19
    },
    {
     "cell_type": "markdown",
     "metadata": {},
     "source": [
      "Coding for compound expressions requires a bit more work, so here's a simple case to start with."
     ]
    },
    {
     "cell_type": "code",
     "collapsed": false,
     "input": [
      "print unify([\"likes\", \"Bill\", \"Sam\"], [\"likes\", \"?x\", \"Sam\"]) == [\"x/Bill\"]"
     ],
     "language": "python",
     "metadata": {},
     "outputs": [
      {
       "output_type": "stream",
       "stream": "stdout",
       "text": [
        "True\n"
       ]
      }
     ],
     "prompt_number": 20
    },
    {
     "cell_type": "markdown",
     "metadata": {},
     "source": [
      "Now that it works, here are the examples listed from Professor Butcher's Blackboard post.\n",
      "\n",
      "Note that P(A, B) is translated to [\"P\", \"A\", \"B\"] for input.\n",
      "\n",
      "Likewise, P(A, F(B)) is translated to [\"P\", \"A\", [\"F\", \"B\"]]"
     ]
    },
    {
     "cell_type": "code",
     "collapsed": false,
     "input": [
      "print unify([\"P\", \"A\", \"B\"], [\"P\", \"A\", \"B\"]) == []\n",
      "print unify([\"P\", \"A\", \"?x\"], [\"P\", \"A\", \"B\"]) == [\"x/B\"]\n",
      "print unify([\"P\", \"A\", \"B\"], [\"P\", \"B\", \"C\"]) == None\n",
      "print unify([\"P\", \"A\", [\"F\", \"B\"]], [\"P\", \"A\", [\"F\", \"B\"]]) == []\n",
      "print unify([\"P\", \"A\", [\"F\", \"B\"]], [\"P\", \"A\", [\"K\", \"B\"]]) == None\n",
      "print unify([\"P\", \"A\", [\"F\", \"B\"]], [\"P\", \"A\", [\"F\", \"C\"]]) == None\n",
      "print unify([\"P\", \"A\", \"?x\"], [\"P\", \"A\", [\"F\", \"C\"]]) == [\"x/F(C)\"]\n",
      "print unify([\"P\", \"A\", \"B\"], [\"P\", \"A\", [\"F\", \"C\"]]) == None\n",
      "print unify([\"P\", \"A\", \"?x\"], [\"P\", \"?y\", [\"F\", \"C\"]]) == [\"y/A\", \"x/F(C)\"]\n",
      "print unify([\"P\", \"A\", \"?x\"], [\"P\", \"?y\", [\"F\", \"?y\"]]) == [\"y/A\", \"x/F(A)\"]\n",
      "print unify([\"P\", \"A\", \"?x\"], [\"P\", \"?y\", [\"F\", \"?x\"]]) == None\n",
      "print unify([\"P\", \"A\", \"B\"], [\"?x\", \"A\", \"B\"]) == [\"x/P\"]"
     ],
     "language": "python",
     "metadata": {},
     "outputs": [
      {
       "output_type": "stream",
       "stream": "stdout",
       "text": [
        "True\n",
        "True\n",
        "True\n",
        "True\n",
        "True\n",
        "True\n",
        "True\n",
        "True\n",
        "True\n",
        "True\n",
        "True\n",
        "True\n"
       ]
      }
     ],
     "prompt_number": 21
    },
    {
     "cell_type": "markdown",
     "metadata": {},
     "source": [
      "Here are more examples from the self-check."
     ]
    },
    {
     "cell_type": "code",
     "collapsed": false,
     "input": [
      "print unify(\"Fred\", \"Barney\") == None\n",
      "print unify(\"Pebbles\", \"Pebbles\") == []\n",
      "print unify([\"quarry-worker\", \"Fred\"], [\"quarry-worker\", \"?x\"]) == [\"x/Fred\"]\n",
      "print unify([\"son\", \"Barney\", \"?x\"] , [\"son\", \"?y\", \"Bam-Bam\"]) == [\"y/Barney\", \"x/Bam-Bam\"]\n",
      "print unify([\"married\", \"?x\", \"?y\"], [\"married\", \"Barney\", \"Wilma\"]) == [\"x/Barney\", \"y/Wilma\"]\n",
      "print unify([\"son\", \"Barney\", \"?x\"], [\"son\", \"?y\", [\"son\", \"Barney\"]]) == [\"y/Barney\", \"x/son(Barney)\"]\n",
      "print unify([\"son\", \"Barney\", \"?x\"], [\"son\", \"?y\", [\"son\", \"?y\"]]) == [\"y/Barney\", \"x/son(Barney)\"]\n",
      "print unify([\"son\", \"Barney\", \"Bam-Bam\"], [\"son\", \"?y\", [\"son\", \"Barney\"]]) == None\n",
      "print unify([\"loves\", \"Fred\", \"Fred\"], [\"loves\", \"?x\", \"?x\"]) == [\"x/Fred\"]\n",
      "print unify([\"future\", \"George\", \"Fred\"], [\"future\", \"?y\", \"?y\"]) == None"
     ],
     "language": "python",
     "metadata": {},
     "outputs": [
      {
       "output_type": "stream",
       "stream": "stdout",
       "text": [
        "True\n",
        "True\n",
        "True\n",
        "True\n",
        "True\n",
        "True\n",
        "True\n",
        "True\n",
        "True\n",
        "True\n"
       ]
      }
     ],
     "prompt_number": 22
    },
    {
     "cell_type": "markdown",
     "metadata": {},
     "source": [
      "**Summary**"
     ]
    },
    {
     "cell_type": "markdown",
     "metadata": {},
     "source": [
      "Unification is the process of finding a substitution between two logical expressions in order to make them identical, a necessary part of inference in first order logic. Substitutions usually take the form of {variable/constant} where a variable can be substituted for any constant. Unification is part of both forward and backward chaining algorithms used for inference in first order logic.\n",
      "\n",
      "One of the problems with pseudocode is that it is very non-specific. But that is the point of pseudocode isn't it... I spent a lot of time thinking what \"apply result1 to rest of exp1 and exp2\" meant. The textbook had a similar issue: it called _UNIFY-VAR_ with three variables but was referencing four. Where did _val_ come from? I couldn't figure it out. For the above pseudocode I couldn't figure out what we were applying to the remained of the expressions. In the end and after a lot of debug code I managed to figure it out... the point was to do some sort of forward substitution.\n",
      "\n",
      "This algorithm wasn't as hard as I anticipated it to be once I figured out the quirks. I spent a few hours studying it and running various scenarios through my head to see what it entailed and after running many test cases figured out what it was supposed to do. I am curious as to how this ties into planning next week."
     ]
    },
    {
     "cell_type": "markdown",
     "metadata": {},
     "source": [
      "Let's try to build an S-expression parser. Supposedly this is used in Lisp. An example is shown below:\n",
      "\n",
      "<code>unify(parse(\"(likes Bill ?x)\"), parse(\"(likes ?y Sam)\"))</code>\n",
      "\n",
      "I will assume that the output will be a list, similar to the requirements above."
     ]
    },
    {
     "cell_type": "code",
     "collapsed": false,
     "input": [
      "def parse_compound(expr):\n",
      "    vals = expr[:-1].split(\"(\", 1)\n",
      "    for i, val in enumerate(vals):\n",
      "        if \"(\" in val and \")\" in val:\n",
      "            vals[i] = parse_compound(vals[i])\n",
      "    return vals"
     ],
     "language": "python",
     "metadata": {},
     "outputs": [],
     "prompt_number": 23
    },
    {
     "cell_type": "code",
     "collapsed": false,
     "input": [
      "def parse(expr):\n",
      "    svalues = expr[1:-1].split(\" \")\n",
      "    for i, val in enumerate(svalues):\n",
      "        if \"(\" in val and \")\" in val:\n",
      "            svalues[i] = parse_compound(val)\n",
      "    return svalues"
     ],
     "language": "python",
     "metadata": {},
     "outputs": [],
     "prompt_number": 24
    },
    {
     "cell_type": "code",
     "collapsed": false,
     "input": [
      "print parse(\"(likes Bill ?x)\")\n",
      "print parse(\"(likes ?y Sam)\")\n",
      "print parse(\"(likes ?x son(Sam))\")\n",
      "print parse(\"(likes ?x son(brother(Sam)))\")\n",
      "print parse(\"(son ?y son(Barney))\")"
     ],
     "language": "python",
     "metadata": {},
     "outputs": [
      {
       "output_type": "stream",
       "stream": "stdout",
       "text": [
        "['likes', 'Bill', '?x']\n",
        "['likes', '?y', 'Sam']\n",
        "['likes', '?x', ['son', 'Sam']]\n",
        "['likes', '?x', ['son', ['brother', 'Sam']]]\n",
        "['son', '?y', ['son', 'Barney']]\n"
       ]
      }
     ],
     "prompt_number": 25
    },
    {
     "cell_type": "markdown",
     "metadata": {},
     "source": [
      "Looks good so far. Let's see if we can run our tests again using the new parser."
     ]
    },
    {
     "cell_type": "code",
     "collapsed": false,
     "input": [
      "print unify(parse(\"(P A B)\"), parse(\"(P A B)\")) == []\n",
      "print unify(parse(\"(P A ?x)\"), parse(\"(P A B)\")) == [\"x/B\"]\n",
      "print unify(parse(\"(P A B)\"), parse(\"(P B C)\")) == None\n",
      "print unify(parse(\"(P A F(B))\"), parse(\"(P A F(B))\")) == []\n",
      "print unify(parse(\"(P A F(B))\"), parse(\"(P A K(B))\")) == None\n",
      "print unify(parse(\"(P A F(B))\"), parse(\"(P A F(C))\")) == None\n",
      "print unify(parse(\"(P A ?x)\"), parse(\"(P A F(C))\")) == [\"x/F(C)\"]\n",
      "print unify(parse(\"(P A B)\"), parse(\"(P A F(C))\")) == None\n",
      "print unify(parse(\"(P A ?x)\"), parse(\"(P ?y F(C))\")) == [\"y/A\", \"x/F(C)\"]\n",
      "print unify(parse(\"(P A ?x)\"), parse(\"(P ?y F(?y))\")) == [\"y/A\", \"x/F(A)\"]\n",
      "print unify(parse(\"(P A ?x)\"), parse(\"(P ?y F(?x))\")) == None\n",
      "print unify(parse(\"(P A B)\"), parse(\"(?x A B)\")) == [\"x/P\"]\n",
      "print unify(parse(\"(P A ?x)\"), parse(\"(P A F(S(C)))\")) == [\"x/F(S(C))\"]"
     ],
     "language": "python",
     "metadata": {},
     "outputs": [
      {
       "output_type": "stream",
       "stream": "stdout",
       "text": [
        "True\n",
        "True\n",
        "True\n",
        "True\n",
        "True\n",
        "True\n",
        "True\n",
        "True\n",
        "True\n",
        "True\n",
        "True\n",
        "True\n",
        "True\n"
       ]
      }
     ],
     "prompt_number": 26
    },
    {
     "cell_type": "code",
     "collapsed": false,
     "input": [
      "print unify(parse(\"(quarry-worker Fred)\"), parse(\"(quarry-worker ?x)\")) == [\"x/Fred\"]\n",
      "print unify(parse(\"(son Barney ?x)\"), parse(\"(son ?y Bam-Bam)\")) == [\"y/Barney\", \"x/Bam-Bam\"]\n",
      "print unify(parse(\"(married ?x ?y)\"), parse(\"(married Barney Wilma)\")) == [\"x/Barney\", \"y/Wilma\"]\n",
      "print unify(parse(\"(son Barney ?x)\"), parse(\"(son ?y son(Barney))\")) == [\"y/Barney\", \"x/son(Barney)\"]\n",
      "print unify(parse(\"(son Barney ?x)\"), parse(\"(son ?y son(?y))\")) == [\"y/Barney\", \"x/son(Barney)\"]\n",
      "print unify(parse(\"(son Barney Bam-Bam)\"), parse(\"(son ?y son(Barney))\")) == None\n",
      "print unify(parse(\"(loves Fred Fred)\"), parse(\"(loves ?x ?x)\")) == [\"x/Fred\"]\n",
      "print unify(parse(\"(future George Fred)\"), parse(\"future ?y ?y\")) == None"
     ],
     "language": "python",
     "metadata": {},
     "outputs": [
      {
       "output_type": "stream",
       "stream": "stdout",
       "text": [
        "True\n",
        "True\n",
        "True\n",
        "True\n",
        "True\n",
        "True\n",
        "True\n",
        "True\n"
       ]
      }
     ],
     "prompt_number": 27
    },
    {
     "cell_type": "code",
     "collapsed": false,
     "input": [],
     "language": "python",
     "metadata": {},
     "outputs": [],
     "prompt_number": 27
    }
   ],
   "metadata": {}
  }
 ]
}