{
 "metadata": {
  "name": ""
 },
 "nbformat": 3,
 "nbformat_minor": 0,
 "worksheets": [
  {
   "cells": [
    {
     "cell_type": "markdown",
     "metadata": {},
     "source": [
      "#Module 4 - Programming Assignment\n",
      "\n",
      "This is the notebook for the Module 4 Programming Assignment.\n",
      "\n",
      "Here are a few tips for using the iPython HTML notebook:\n",
      "\n",
      "1.  You can use tab . Try le<&lt;tab> and see the available functions.\n",
      "2.  You can change the type of cell by picking \"Code\" or \"Markdown\" from the menu at the left.\n",
      "3.  If you keep typing in a Markdown text area, you will eventually get scroll bars. To prevent this, hit return when you come to\n",
      "the end of the window. Only a double return creates a new paragraph.\n",
      "4.  You can find out more about Markdown text here: http://daringfireball.net/projects/markdown/ (Copy this link and put it \n",
      "in another tab for reference--Don't click it or you'll leave your notebook!).\n",
      "5.  Every so often, restart the kernel, clear all output and run all code cells so you can be certain that you didn't\n",
      "define something out of order.\n",
      "\n",
      "**You should rename this notebook to be &lt;your JHED id>\\_PR1.ipynb** Do it right now.\n",
      "\n",
      "**Make certain the entire notebook executes before you submit it.** (See Hint #5 above)\n",
      "\n",
      "Change the following variables:"
     ]
    },
    {
     "cell_type": "code",
     "collapsed": true,
     "input": [
      "name = \"Shehzad Qureshi\"\n",
      "jhed_id = \"squresh6\"\n",
      "if name == \"Student Name\" or jhed_id == \"sname1\":\n",
      "    raise Exception( \"Change the name and/or JHED ID...preferrably to yours.\")"
     ],
     "language": "python",
     "metadata": {},
     "outputs": [],
     "prompt_number": 1
    },
    {
     "cell_type": "markdown",
     "metadata": {},
     "source": [
      "Add whatever additional imports you require here. Stick with the standard libraries and those required by the class. The import\n",
      "gives you access to these functions: http://ipython.org/ipython-doc/stable/api/generated/IPython.core.display.html (Copy this link)\n",
      "Which, among other things, will permit you to display HTML as the result of evaluated code (see HTML() or display_html())."
     ]
    },
    {
     "cell_type": "code",
     "collapsed": true,
     "input": [
      "from IPython.core.display import *\n",
      "from StringIO import StringIO\n",
      "import numpy as np\n",
      "import matplotlib.pyplot as plt\n",
      "%matplotlib inline"
     ],
     "language": "python",
     "metadata": {},
     "outputs": [],
     "prompt_number": 2
    },
    {
     "cell_type": "markdown",
     "metadata": {},
     "source": [
      "This problem is very similar to the one in Module 1 that we solved with A\\* search. The main difference is that we now have stochastic movement (actions don't always result in the desired successor state) so we can't use A\\* search to solve it. Instead you're going to use Q-Learning (reinforcement learning).\n",
      "\n",
      "As before, we're going to simplify the problem by working in a grid world. The symbols that form the grid have a special meaning as they\n",
      "specify the type of the terrain and the cost to enter a grid cell with that type of terrain:\n",
      "\n",
      "<code>\n",
      "token   terrain    cost \n",
      ".       plains     1\n",
      "*       forest     3\n",
      "^       hills      5\n",
      "~       swamp      7\n",
      "x       mountains  impassible\n",
      "</code>\n",
      "\n",
      "When you go from a plains node to a forest node it costs 3. When you go\n",
      "from a forest node to a plains node, it costs 1. You can think of the grid as a big graph. Each grid cell (terrain symbol)\n",
      "is a node and there are edges to the north, south, east and west (except at the edges). Unlike A* Search, Reinforcement Learning\n",
      "will find a policy for the entire state space. The goal is (26, 26) with a reward of 100.0.\n",
      "\n",
      "To avoid global variables, we have a <code>read_world()</code> function that takes a filename and returns the world as list of lists. The same coordinates reversal applies: (x, y) is world[ y][ x]."
     ]
    },
    {
     "cell_type": "code",
     "collapsed": true,
     "input": [
      "def read_world( filename):\n",
      "    with open( filename, 'r') as f:\n",
      "        world_data = [x for x in f.readlines()]\n",
      "    f.closed\n",
      "    world = []\n",
      "    for line in world_data:\n",
      "        line = line.strip()\n",
      "        if line == \"\": continue\n",
      "        world.append([x for x in line])\n",
      "    return world"
     ],
     "language": "python",
     "metadata": {},
     "outputs": [],
     "prompt_number": 3
    },
    {
     "cell_type": "markdown",
     "metadata": {},
     "source": [
      "Next we create a dict of movement costs. Note that we've negated them this time because RL requires negative costs and positive rewards:"
     ]
    },
    {
     "cell_type": "code",
     "collapsed": false,
     "input": [
      "# do not reference this as a global variable.\n",
      "costs = { '.': -1, '*': -3, '^': -5, '~': -7}\n",
      "costs"
     ],
     "language": "python",
     "metadata": {},
     "outputs": [
      {
       "metadata": {},
       "output_type": "pyout",
       "prompt_number": 4,
       "text": [
        "{'*': -3, '.': -1, '^': -5, '~': -7}"
       ]
      }
     ],
     "prompt_number": 4
    },
    {
     "cell_type": "markdown",
     "metadata": {},
     "source": [
      "and a list of offsets for NEIGHBORS. You'll need to work this into your actions, A, parameter."
     ]
    },
    {
     "cell_type": "code",
     "collapsed": true,
     "input": [
      "NEIGHBORS = [(0,-1), (1,0), (0,1), (-1,0)]"
     ],
     "language": "python",
     "metadata": {},
     "outputs": [],
     "prompt_number": 5
    },
    {
     "cell_type": "markdown",
     "metadata": {},
     "source": [
      "The transition function, T, is 0.70 for the desired direction, and 0.10 each for the other possible directions. That is, if I select \"up\" then 70% of the time, I go up but 10% of the time I go left, 10% of the time I go right and 10% of the time I go down. If you're at the edge of the map, you simply bounce back to the current state.\n",
      "\n",
      "You need to implement <code>q_learning()</code> with the following parameters:\n",
      "\n",
      "+ world: a list of lists of terrain (this is S from S, A, T, gamma, R)\n",
      "+ costs: a hash of costs by terrain (this is part of R)\n",
      "+ goal: A Tuple of (x, y) stating the goal state.\n",
      "+ reward: The reward for achieving the goal state.\n",
      "+ actions: a List of possible actions, A.\n",
      "+ gamma: the discount rate\n",
      "+ alpha: the learning rate\n",
      "\n",
      "you will return a policy: {(x1, y1): action1, (x2, y2): action2, ...} Remember...a policy is what to do in any/every state. Notice how this is different that A\\* search which only returns one path from start to goal. For a 2d navigation problem, you can also print out a map of what action to do in every state.\n",
      "\n",
      "Use a goal that is the lower right hand corner of the world.\n",
      "\n",
      "There are a lot of details that I have left up to you. Watch and re-watch the lecture on Q-Learning. Ask questions. You need to implement a way to pick initial states for each iteration and you need a way to balance exploration and exploitation while learning. You may have to experiment with different gamma and alpha values.\n",
      "\n",
      "Remember that you should follow the general style guidelines for this course: well-named, short, focused functions with limited indentation using Markdown documentation that explains their implementation and the AI concepts behind them.\n",
      "\n",
      "This assignment sometimes wrecks havoc with IPython notebook. Create a small test world (5x6) to work with. Pick an asymmetric world to avoid edge cases."
     ]
    },
    {
     "cell_type": "markdown",
     "metadata": {},
     "source": [
      "#Reinforcement Learning\n",
      "\n",
      "Let's start by pre-defining some variables that will come in handy later. We're going to artificially limit the number of episodes and iterations per episode to keep iPython from running amok."
     ]
    },
    {
     "cell_type": "code",
     "collapsed": false,
     "input": [
      "debug = False\n",
      "iter_max = 10000\n",
      "episodes = 10000\n",
      "epsilon = 0.15\n",
      "omega = 0.01\n",
      "Ne = 5\n",
      "Pe = 10"
     ],
     "language": "python",
     "metadata": {},
     "outputs": [],
     "prompt_number": 6
    },
    {
     "cell_type": "markdown",
     "metadata": {},
     "source": [
      "Now we need a way to initialize our Q Matrix. This matrix will be a function of the size of the world and the number of actions per state. We will also set our goal state to the reward value provided."
     ]
    },
    {
     "cell_type": "code",
     "collapsed": false,
     "input": [
      "def initialize_q_matrix(world, actions, goal, reward):\n",
      "    xlen, ylen, alen = len(world[0]), len(world), len(actions)\n",
      "    Q = np.zeros((ylen, xlen, alen))\n",
      "    x, y = goal\n",
      "    Q[y][x] = reward\n",
      "    return Q"
     ],
     "language": "python",
     "metadata": {},
     "outputs": [],
     "prompt_number": 7
    },
    {
     "cell_type": "markdown",
     "metadata": {},
     "source": [
      "Next we need a function to pick an initial state. We shall try to start closer to the goal and work our way further and further away."
     ]
    },
    {
     "cell_type": "code",
     "collapsed": false,
     "input": [
      "def initialize_state(world, goal, episode):\n",
      "    cx, cy = int(goal[0] - (float(episode)/Pe)), int(goal[1] - (float(episode)/Pe))\n",
      "    if cx < 0: cx = 0\n",
      "    if cx < 0: cy = 0\n",
      "    bx, by = len(world[0]), len(world)\n",
      "    positions = []\n",
      "    positions.extend([(i,cy) for i in xrange(cx, bx) if world[cy][i] in costs])\n",
      "    positions.extend([(cx,i) for i in xrange(cy, by) if world[i][cx] in costs])\n",
      "    if goal in positions: positions.remove(goal) \n",
      "    state = positions[np.random.randint(0, len(positions))]\n",
      "    if debug: print(\"Initialized state to {0}\".format(state))\n",
      "    return state "
     ],
     "language": "python",
     "metadata": {},
     "outputs": [],
     "prompt_number": 8
    },
    {
     "cell_type": "markdown",
     "metadata": {},
     "source": [
      "We also need a method to pick an action once a state has been selected. This shall be a combination of methods:\n",
      "\n",
      "- First we shall attempt to pick actions that have not been picked as much. This is needed to ensure that all states are initially explored equally.\n",
      "- Then we shall obtain a random value and compare it with epsilon, defined above. This will be our exploration/exploitation factor. If this number is less than epsilon we shall explore, else we shall exploit, i.e. pick the largest Q value for this state."
     ]
    },
    {
     "cell_type": "code",
     "collapsed": false,
     "input": [
      "def select_action(Q, N, s):\n",
      "    x, y = s\n",
      "    n = [i for i,v in enumerate(N[y][x] < Ne) if v]\n",
      "    if len(n) > 0: action = np.random.choice(n)\n",
      "    else:\n",
      "        e = np.random.random()\n",
      "        if e < epsilon: action = np.random.randint(0, len(Q[y][x]))\n",
      "        else: action = np.argmax(Q[y][x])\n",
      "    N[y][x][action] = N[y][x][action] + 1\n",
      "    if debug: print(\"  Selecting {0} from {1} for {2}\".format(action, Q[y][x], (x,y)))\n",
      "    return action"
     ],
     "language": "python",
     "metadata": {},
     "outputs": [],
     "prompt_number": 9
    },
    {
     "cell_type": "markdown",
     "metadata": {},
     "source": [
      "Every action needs to be simulated with the transition model given above. The agent has no knowledge of this transition model. We also do bounds checking for each action and every out-of-bounds move will result in staying in the same state but will yield a larger penalty."
     ]
    },
    {
     "cell_type": "code",
     "collapsed": false,
     "input": [
      "def execute_action(world, costs, state, action):\n",
      "    p = [0.7 if x == action else 0.1 for x in xrange(len(NEIGHBORS))]\n",
      "    if debug: print(\"  Attempting to move {0} from {1} with p={2}\".format(NEIGHBORS[action],state,p))\n",
      "    move = NEIGHBORS[np.random.choice(xrange(len(NEIGHBORS)), p=p)]\n",
      "    bound_x, bound_y = len(world[0]) - 1, len(world) - 1\n",
      "    x, y = state[0] + move[0], state[1] + move[1]\n",
      "    if x < 0 or x > bound_x or y < 0 or y > bound_y or world[y][x] not in costs:\n",
      "        new_state, reward = state, -100\n",
      "    else:\n",
      "        new_state = (x,y)\n",
      "        reward = collect_reward(world, costs, new_state)\n",
      "    if debug: print(\"  Executing {0} from {1} to {2}\".format(move,state,new_state))\n",
      "    return new_state, reward"
     ],
     "language": "python",
     "metadata": {},
     "outputs": [],
     "prompt_number": 10
    },
    {
     "cell_type": "markdown",
     "metadata": {},
     "source": [
      "Naturally, every action will result in a reward."
     ]
    },
    {
     "cell_type": "code",
     "collapsed": false,
     "input": [
      "def collect_reward(world, costs, new_state):\n",
      "    x, y = new_state\n",
      "    reward = costs[world[y][x]]\n",
      "    if debug: print(\"  Collecting reward of {0} from {1}\".format(reward,new_state))\n",
      "    return reward"
     ],
     "language": "python",
     "metadata": {},
     "outputs": [],
     "prompt_number": 11
    },
    {
     "cell_type": "markdown",
     "metadata": {},
     "source": [
      "This method will convert our final Q matrix into an actual policy. The policy is a dictionary of each available state mapped to the action with the highest value."
     ]
    },
    {
     "cell_type": "code",
     "collapsed": false,
     "input": [
      "def get_policy(Q):\n",
      "    policy = dict()\n",
      "    y, x, a = Q.shape\n",
      "    for i in xrange(y):\n",
      "        for j in xrange(x):\n",
      "            policy[(j,i)] = NEIGHBORS[np.argmax(Q[i][j])]\n",
      "    return policy"
     ],
     "language": "python",
     "metadata": {},
     "outputs": [],
     "prompt_number": 12
    },
    {
     "cell_type": "markdown",
     "metadata": {},
     "source": [
      "The Q-Learning function is defined below."
     ]
    },
    {
     "cell_type": "code",
     "collapsed": false,
     "input": [
      "def q_learning(world, costs, goal_state, goal_reward, actions, gamma, alpha):\n",
      "    Q = initialize_q_matrix(world, actions, goal_state, goal_reward)\n",
      "    N = np.zeros_like(Q)\n",
      "    for i in xrange(episodes):\n",
      "        s, epcopy, iter_count = initialize_state(world, goal_state, i + 1), np.copy(Q), 0\n",
      "        while not s == goal_state:\n",
      "            a, (sx,sy) = select_action(Q, N, s), s\n",
      "            (nx,ny), reward = execute_action(world, costs, s, a) \n",
      "            Q[sy][sx][a] = (1-alpha)*(Q[sy][sx][a]) + (alpha*(reward+(gamma*np.max(Q[ny][nx]))))\n",
      "            s, iter_count = (nx, ny), iter_count + 1\n",
      "            if iter_count > iter_max: break\n",
      "        if np.max(Q - epcopy) < omega: break\n",
      "    return get_policy(Q)"
     ],
     "language": "python",
     "metadata": {},
     "outputs": [],
     "prompt_number": 13
    },
    {
     "cell_type": "markdown",
     "metadata": {},
     "source": [
      "We need a way to visualize our results so we shall use matplotlib once again and borrow Problem 1's definitions. The resulting plot will have two plots side-by-side, one for the map and one for the policy. Overlaying the policy on top of the map did not seem visually appealing."
     ]
    },
    {
     "cell_type": "code",
     "collapsed": false,
     "input": [
      "def setup_map(ax, world):\n",
      "    c = dict()\n",
      "    c['.'] = ('.', 0.4)\n",
      "    c['x'] = ('x', 0.7)\n",
      "    c['^'] = ('^', 0.4)\n",
      "    c['*'] = ('*', 0.4)\n",
      "    c['~'] = ('d', 0.4)\n",
      "    for y, _y in enumerate(world):\n",
      "        for x, _x in enumerate(_y):\n",
      "            params = c[world[y][x]]\n",
      "            ax.plot(x, y, params[0], color='black', alpha=params[1])"
     ],
     "language": "python",
     "metadata": {},
     "outputs": [],
     "prompt_number": 14
    },
    {
     "cell_type": "markdown",
     "metadata": {},
     "source": [
      "This will draw our policy on the given axis."
     ]
    },
    {
     "cell_type": "code",
     "collapsed": false,
     "input": [
      "def overlay_policy(ax, goal, policy, world):\n",
      "    movement_map = [\"^\", \">\", \"v\", \"<\"]\n",
      "    for x, y in policy:\n",
      "        if (x, y) == goal: symbol = \"H\"\n",
      "        else: symbol = movement_map[NEIGHBORS.index(policy[(x,y)])] if world[y][x] in costs else \"x\"\n",
      "        ax.plot(x, y, symbol, color='blue', alpha=0.8)"
     ],
     "language": "python",
     "metadata": {},
     "outputs": [],
     "prompt_number": 15
    },
    {
     "cell_type": "markdown",
     "metadata": {},
     "source": [
      "And now our main plotting function. We must remember to invert the y-axis *after* plotting the data."
     ]
    },
    {
     "cell_type": "code",
     "collapsed": false,
     "input": [
      "def plot_policy(world, goal, policy):\n",
      "    fig, (ax_map, ax_pol) = plt.subplots(1, 2)\n",
      "    ax_map.set_axis_off()\n",
      "    ax_pol.set_axis_off()\n",
      "    ax_map.set_xlim((-1, len(world[0])))\n",
      "    ax_map.set_ylim((-1, len(world)))\n",
      "    ax_pol.set_xlim((-1, len(world[0])))\n",
      "    ax_pol.set_ylim((-1, len(world)))\n",
      "    setup_map(ax_map, world)\n",
      "    overlay_policy(ax_pol, goal, policy, world)\n",
      "    ax_map.invert_yaxis()\n",
      "    ax_pol.invert_yaxis()\n",
      "    plt.show()"
     ],
     "language": "python",
     "metadata": {},
     "outputs": [],
     "prompt_number": 16
    },
    {
     "cell_type": "markdown",
     "metadata": {},
     "source": [
      "Test on a smaller map first."
     ]
    },
    {
     "cell_type": "code",
     "collapsed": false,
     "input": [
      "world = read_world(\"test_world.txt\")\n",
      "goal = (6,6)\n",
      "%time policy = q_learning(world, costs, goal, 200.0, NEIGHBORS, 0.75, 0.25)\n",
      "plot_policy(world, goal, policy)"
     ],
     "language": "python",
     "metadata": {},
     "outputs": [
      {
       "output_type": "stream",
       "stream": "stdout",
       "text": [
        "Wall time: 4.2 s\n"
       ]
      },
      {
       "metadata": {},
       "output_type": "display_data",
       "png": "[encoded data removed]",
       "text": [
        "<matplotlib.figure.Figure at 0x560fd90>"
       ]
      }
     ],
     "prompt_number": 17
    },
    {
     "cell_type": "markdown",
     "metadata": {},
     "source": [
      "I had to play with the discount factor and rewards for a bit to get the policy that I thought was good enough. Due to the randomness of the algorithm (selecting the initial state, selecting the actions, simulation of the transition model) no two runs are exactly alike.\n",
      "\n",
      "And now we'll test it with our final world model from problem 1."
     ]
    },
    {
     "cell_type": "code",
     "collapsed": false,
     "input": [
      "world = read_world(\"world.txt\")\n",
      "goal = (26, 26)\n",
      "Ne = 5\n",
      "epsilon = 0.15\n",
      "Pe = 500\n",
      "episodes = 1000000\n",
      "iter_max = 1000000\n",
      "%time policy = q_learning(world, costs, goal, 500.0, NEIGHBORS, 0.8, 0.25)\n",
      "plot_policy(world, goal, policy)"
     ],
     "language": "python",
     "metadata": {},
     "outputs": [
      {
       "output_type": "stream",
       "stream": "stdout",
       "text": [
        "Wall time: 12 s\n"
       ]
      },
      {
       "metadata": {},
       "output_type": "display_data",
       "png": "[encoded data removed]",
       "text": [
        "<matplotlib.figure.Figure at 0x58534b0>"
       ]
      }
     ],
     "prompt_number": 18
    },
    {
     "cell_type": "markdown",
     "metadata": {},
     "source": [
      "I don't think this is the perfect policy, but I'm not sure there is one. I do notice that there may be loops if the agent starts on certain squares. I wonder if this has anything to do with the simulation of the transition model."
     ]
    },
    {
     "cell_type": "markdown",
     "metadata": {},
     "source": [
      "__Summary__\n",
      "\n",
      "Reinforcement Learning is a fascinating AI algorithm that has many applications including Robotics, a topic I am very fond of. I can see how this algorithm can be used to get a robot to learn about its environment even if it knows relatively nothing about it.\n",
      "\n",
      "This isn't a trivial algorithm to understand though. It seems that the outcome of the algorithm is highly dependent on the input and structure of the algorithms itself:\n",
      "\n",
      "- Selecting an initial state is important, especially in the early iterations of the algorithm. I opted to pick a square close to the goal and work my way outwards. But what constitutes as close? In a 2D world I still have a vast array of options to choose from that are considered close.\n",
      "- Selecting an action is equally important. I chose to use a combination of statistics and randomness. Initially the algorithm will try to pick an action inverse to the number of times it has already been picked, i.e. lesser picked actions are given priority. This gives the agent a chance to explore the area evenly. After that, we use a random exploration/exploitation function to determine the action. But if I'm already using a statistical function to explore, do I need the randomness afterwards? Initial testing told me yes.\n",
      "- Selecting values for alpha, gamma, omega, epsilon, Ne (statistical function for action-selection), and Pe (used to determine how close to the goal the initial state should be) is a very complex task. In fact, balancing out these variables seems like a CSP."
     ]
    },
    {
     "cell_type": "code",
     "collapsed": false,
     "input": [
      "# my testing"
     ],
     "language": "python",
     "metadata": {},
     "outputs": [],
     "prompt_number": 19
    }
   ],
   "metadata": {}
  }
 ]
}