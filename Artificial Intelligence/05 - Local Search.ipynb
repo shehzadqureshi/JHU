{
 "metadata": {
  "name": ""
 },
 "nbformat": 3,
 "nbformat_minor": 0,
 "worksheets": [
  {
   "cells": [
    {
     "cell_type": "markdown",
     "metadata": {},
     "source": [
      "Module 5 - Programming Assignment\n",
      "=\n",
      "This is the notebook for the Module 5 Programming Assignment.\n",
      "\n",
      "Here are a few tips for using the iPython HTML notebook:\n",
      "\n",
      "1.  You can use tab . Try le<&lt;tab> and see the available functions.\n",
      "2.  You can change the type of cell by picking \"Code\" or \"Markdown\" from the menu at the left.\n",
      "3.  If you keep typing in a Markdown text area, you will eventually get scroll bars. To prevent this, hit return when you come to\n",
      "the end of the window. Only a double return creates a new paragraph.\n",
      "4.  You can find out more about Markdown text here: http://daringfireball.net/projects/markdown/ (Copy this link and put it \n",
      "in another tab for reference--Don't click it or you'll leave your notebook!).\n",
      "5.  Every so often, restart the kernel, clear all output and run all code cells so you can be certain that you didn't\n",
      "define something out of order.\n",
      "\n",
      "**You should rename this notebook to be &lt;your JHED id>_PR5\\.ipynb** Do it right now.\n",
      "\n",
      "**Make certain the entire notebook executes before you submit it.** (See Hint #5 above)\n",
      "\n",
      "Change the following variables:"
     ]
    },
    {
     "cell_type": "code",
     "collapsed": true,
     "input": [
      "name = \"Shehzad Qureshi\"\n",
      "jhed_id = \"squresh6\"\n",
      "if name == \"Student Name\" or jhed_id == \"sname1\":\n",
      "    raise Exception( \"Change the name and/or JHED ID...preferrably to yours.\")"
     ],
     "language": "python",
     "metadata": {},
     "outputs": [],
     "prompt_number": 1
    },
    {
     "cell_type": "markdown",
     "metadata": {},
     "source": [
      "Add whatever additional imports you require here. Stick with the standard libraries and those required by the class. The import\n",
      "gives you access to these functions: http://ipython.org/ipython-doc/stable/api/generated/IPython.core.display.html (Copy this link)\n",
      "Which, among other things, will permit you to display HTML as the result of evaluated code (see HTML() or display_html())."
     ]
    },
    {
     "cell_type": "code",
     "collapsed": true,
     "input": [
      "from IPython.core.display import *\n",
      "from StringIO import StringIO\n",
      "import numpy as np\n",
      "from operator import itemgetter"
     ],
     "language": "python",
     "metadata": {},
     "outputs": [],
     "prompt_number": 2
    },
    {
     "cell_type": "markdown",
     "metadata": {},
     "source": [
      "For this assignment, you are going to implement both hill-climbing and a genetic algorithm to solve a problem.\n",
      "\n",
      "The problem is to generate the phrase \"methinks it is like a weasel\" which is from Hamlet. The particular phrase was made popular in Richard Dawkin's book *The Blind Watchmaker*.\n",
      "\n",
      "You will need to think of an evaluation function that compares two strings and returns a score that indicates how different the two strings. It would return zero if the two strings are identical. You may find the ord() function helpful. It turns the ASCII code for a single string character:\n",
      "\n"
     ]
    },
    {
     "cell_type": "code",
     "collapsed": false,
     "input": [
      "ord( \" \")"
     ],
     "language": "python",
     "metadata": {},
     "outputs": [
      {
       "metadata": {},
       "output_type": "pyout",
       "prompt_number": 3,
       "text": [
        "32"
       ]
      }
     ],
     "prompt_number": 3
    },
    {
     "cell_type": "code",
     "collapsed": false,
     "input": [
      "chr(97)"
     ],
     "language": "python",
     "metadata": {},
     "outputs": [
      {
       "metadata": {},
       "output_type": "pyout",
       "prompt_number": 4,
       "text": [
        "'a'"
       ]
      }
     ],
     "prompt_number": 4
    },
    {
     "cell_type": "markdown",
     "metadata": {},
     "source": [
      "For hill-climbing, you will need to create a successor function. Because the state space is so large (for a given string, the successor function should return\n",
      "every possible single letter permutation of the current string), you will want to use a stochastic successor function that simply returns one of those possibilities at random.\n",
      "\n",
      "For the genetic algorithm, you will need a function to generate a random individual, you will need a crossover operator, and a mutation operator. For this assignment, you can use tournament selection (remember that tournament selection involves picking seven individuals at random and returning the best one) because\n",
      "the fitness function needs to be *minimized*.\n",
      "\n",
      "Finally, both of your implementations should work with a string of any length (not just the given target)."
     ]
    },
    {
     "cell_type": "markdown",
     "metadata": {},
     "source": [
      "__Hill Climbing__\n",
      "\n",
      "We will implement a schotastic version of hill climbing. We'll start by defining some variables and functions for logging."
     ]
    },
    {
     "cell_type": "code",
     "collapsed": false,
     "input": [
      "debug = False\n",
      "verbose = True\n",
      "def log(msg):\n",
      "    if debug: print msg\n",
      "def verbose(msg):\n",
      "    if verbose: print msg"
     ],
     "language": "python",
     "metadata": {},
     "outputs": [],
     "prompt_number": 5
    },
    {
     "cell_type": "markdown",
     "metadata": {},
     "source": [
      "Now we define our variable for allowed ASCII characters. We could use ord() as shown above but that wasn't necessary. This method will put each allowable character as an element in a list."
     ]
    },
    {
     "cell_type": "code",
     "collapsed": false,
     "input": [
      "key = [x for x in \"abcdefghijklmnopqrstuvwxyz \"]"
     ],
     "language": "python",
     "metadata": {},
     "outputs": [],
     "prompt_number": 6
    },
    {
     "cell_type": "markdown",
     "metadata": {},
     "source": [
      "We need a way to generate an initial state for hill climbing. Given the length of the string we can pick random characters from our key above to form our initial state."
     ]
    },
    {
     "cell_type": "code",
     "collapsed": false,
     "input": [
      "def generate_initial_state(strlen):\n",
      "    init = [np.random.choice(key) for i in xrange(strlen)]\n",
      "    init = \"\".join(init)\n",
      "    log(\"Generated initial state: \" + init)\n",
      "    return init"
     ],
     "language": "python",
     "metadata": {},
     "outputs": [],
     "prompt_number": 7
    },
    {
     "cell_type": "markdown",
     "metadata": {},
     "source": [
      "Hill climbing requires a successor function which generates all successive states of the state under test. Implemented instead is a stochastic version which does a single, single shift. This means it randomly picks a position in the state and shifts left or right randomly. This, apparently, will demonstrate hill climbing unlike the original function which generates all successor states that performs the \"climb\" only once."
     ]
    },
    {
     "cell_type": "code",
     "collapsed": false,
     "input": [
      "def generate_random_successor(value):\n",
      "    pos = np.random.randint(0, len(value))\n",
      "    c = int(np.random.choice([-1, 1]))\n",
      "    tmp = list(value)\n",
      "    tmp[pos] = key[(key.index(tmp[pos]) + c) % len(key)]\n",
      "    tmp = \"\".join(tmp)\n",
      "    log(\"Successor: \" + tmp)\n",
      "    return tmp"
     ],
     "language": "python",
     "metadata": {},
     "outputs": [],
     "prompt_number": 8
    },
    {
     "cell_type": "markdown",
     "metadata": {},
     "source": [
      "We'll need a way to evaluate our string function using math so this will convert each allowable character into its index in the key. Example: 'a' = 0, z = '25'. The value returned is an array of numbers on which mathematical operations will be easier."
     ]
    },
    {
     "cell_type": "code",
     "collapsed": false,
     "input": [
      "def string_to_array(val):\n",
      "    return np.array([key.index(x) for x in val])"
     ],
     "language": "python",
     "metadata": {},
     "outputs": [],
     "prompt_number": 9
    },
    {
     "cell_type": "markdown",
     "metadata": {},
     "source": [
      "The fitness function evaluates the state by comparing it to the target state. This function will compute the fitness of the candidate as such:\n",
      "\n",
      "- First compute the manhattan distance of state to target, and target to state\n",
      "- Do an element by element comparison and take the minimum of each element\n",
      "- Return the average of all distances.\n",
      "\n",
      "We do two comparisons because it is entirely possible to loop from the end of the alphabet to the beginning. \"xyz\" should have a small manhattan distance to \"xya\"."
     ]
    },
    {
     "cell_type": "code",
     "collapsed": false,
     "input": [
      "def fitness(current, target):\n",
      "    c, t = string_to_array(current), string_to_array(target)\n",
      "    fitness = np.minimum(np.absolute(c - t), np.absolute(t - c))\n",
      "    return np.average(fitness)"
     ],
     "language": "python",
     "metadata": {},
     "outputs": [],
     "prompt_number": 10
    },
    {
     "cell_type": "markdown",
     "metadata": {},
     "source": [
      "Our hill climbing function uses a stochastic method instead of generating all successor states. This will demonstrate proper hill climbing since it needs to evaluate each single successor and compare its fitness with the current fitness. A climb is done if and only if the new fitness value returned is better. This function will return only when then initial state evolves into the target."
     ]
    },
    {
     "cell_type": "code",
     "collapsed": false,
     "input": [
      "def hillclimb(target):\n",
      "    current = generate_initial_state(len(target))\n",
      "    verbose(current)\n",
      "    value = fitness(current, target)\n",
      "    itercount = 0\n",
      "    while value != 0.0:\n",
      "        candidate = generate_random_successor(current)\n",
      "        candidate_value = fitness(candidate, target)\n",
      "        if candidate_value < value:\n",
      "            current, value = candidate, candidate_value\n",
      "        itercount = itercount + 1\n",
      "    verbose(\"Reached target in {0} iterations\".format(itercount))\n",
      "    return current"
     ],
     "language": "python",
     "metadata": {},
     "outputs": [],
     "prompt_number": 11
    },
    {
     "cell_type": "markdown",
     "metadata": {},
     "source": [
      "Some simple testing for hill climbing:"
     ]
    },
    {
     "cell_type": "code",
     "collapsed": false,
     "input": [
      "hillclimb(\"methinks it is like a weasel\")"
     ],
     "language": "python",
     "metadata": {},
     "outputs": [
      {
       "output_type": "stream",
       "stream": "stdout",
       "text": [
        "eowdybfgzreifveltgjahnnexhnt\n",
        "Reached target in 1037 iterations"
       ]
      },
      {
       "output_type": "stream",
       "stream": "stdout",
       "text": [
        "\n"
       ]
      },
      {
       "metadata": {},
       "output_type": "pyout",
       "prompt_number": 12,
       "text": [
        "'methinks it is like a weasel'"
       ]
      }
     ],
     "prompt_number": 12
    },
    {
     "cell_type": "code",
     "collapsed": false,
     "input": [
      "hillclimb(\"i thought i thaw a putty cat\")"
     ],
     "language": "python",
     "metadata": {},
     "outputs": [
      {
       "output_type": "stream",
       "stream": "stdout",
       "text": [
        "lgkdqpmkfgqyyilfzpui umzd ov\n",
        "Reached target in 1192 iterations"
       ]
      },
      {
       "output_type": "stream",
       "stream": "stdout",
       "text": [
        "\n"
       ]
      },
      {
       "metadata": {},
       "output_type": "pyout",
       "prompt_number": 13,
       "text": [
        "'i thought i thaw a putty cat'"
       ]
      }
     ],
     "prompt_number": 13
    },
    {
     "cell_type": "code",
     "collapsed": false,
     "input": [
      "hillclimb(\"beam me up scotty\")"
     ],
     "language": "python",
     "metadata": {},
     "outputs": [
      {
       "output_type": "stream",
       "stream": "stdout",
       "text": [
        "ydmgxkzgvibunlunp\n",
        "Reached target in 1153 iterations"
       ]
      },
      {
       "output_type": "stream",
       "stream": "stdout",
       "text": [
        "\n"
       ]
      },
      {
       "metadata": {},
       "output_type": "pyout",
       "prompt_number": 14,
       "text": [
        "'beam me up scotty'"
       ]
      }
     ],
     "prompt_number": 14
    },
    {
     "cell_type": "code",
     "collapsed": false,
     "input": [
      "hillclimb(\"artificial intelligence is fun\")"
     ],
     "language": "python",
     "metadata": {},
     "outputs": [
      {
       "output_type": "stream",
       "stream": "stdout",
       "text": [
        "yh joydxpgtvuczmhzukmqyymnasek\n",
        "Reached target in 1495 iterations"
       ]
      },
      {
       "output_type": "stream",
       "stream": "stdout",
       "text": [
        "\n"
       ]
      },
      {
       "metadata": {},
       "output_type": "pyout",
       "prompt_number": 15,
       "text": [
        "'artificial intelligence is fun'"
       ]
      }
     ],
     "prompt_number": 15
    },
    {
     "cell_type": "markdown",
     "metadata": {},
     "source": [
      "__Genetic Algorithm__\n",
      "\n",
      "The implemented genetic algorithm will use tournament selection when choosing parents from the population pool. We shall also implement some randomness when reproducing and mutating. The variables below define our probabilities and tournament selection size."
     ]
    },
    {
     "cell_type": "code",
     "collapsed": false,
     "input": [
      "Pc = 0.9\n",
      "Pm = 0.05\n",
      "Tsize = 7"
     ],
     "language": "python",
     "metadata": {},
     "outputs": [],
     "prompt_number": 16
    },
    {
     "cell_type": "markdown",
     "metadata": {},
     "source": [
      "Next we need to generate our initial population. Given the size and the length of each population member we can call our generator from hill climbing to generate the entire population."
     ]
    },
    {
     "cell_type": "code",
     "collapsed": false,
     "input": [
      "def generate_initial_population(population_size, strlen):\n",
      "    log(\"Generating initial population of size {0} and length {1}\".format(population_size, strlen))\n",
      "    population = [generate_initial_state(strlen) for x in xrange(population_size)]\n",
      "    log(population)\n",
      "    return population"
     ],
     "language": "python",
     "metadata": {},
     "outputs": [],
     "prompt_number": 17
    },
    {
     "cell_type": "markdown",
     "metadata": {},
     "source": [
      "Similarly, we can use the fitness function from hill climbing when evaluating the population as well. Since this is a minimizing problem our fitness result shall be evaluated as 1 / 1 + f(n)."
     ]
    },
    {
     "cell_type": "code",
     "collapsed": false,
     "input": [
      "def evaluate_population(population, target):\n",
      "    log(\"Evaluating population\")\n",
      "    result = [(p, 1 / (1 + fitness(p, target))) for p in population]\n",
      "    log(result)\n",
      "    return result"
     ],
     "language": "python",
     "metadata": {},
     "outputs": [],
     "prompt_number": 18
    },
    {
     "cell_type": "markdown",
     "metadata": {},
     "source": [
      "Picking a parent will require tournament selection. Instead of using the entire population space we will select _Tsize_ members of the population and pick the parent with the highest fitness value. The downside to picking one parent at a time is the possibility of picking the same parent consecutively, which is not necessarily a bad thing."
     ]
    },
    {
     "cell_type": "code",
     "collapsed": false,
     "input": [
      "def pick_parent(population):\n",
      "    tournament = np.random.choice(len(population), Tsize, replace=False)\n",
      "    entries = [population[i] for i in tournament]\n",
      "    parent = sorted(entries, key=itemgetter(1)).pop()[0]\n",
      "    log(\"Picked parent \" + parent)\n",
      "    return parent"
     ],
     "language": "python",
     "metadata": {},
     "outputs": [],
     "prompt_number": 19
    },
    {
     "cell_type": "markdown",
     "metadata": {},
     "source": [
      "Our mutation algorithm will select a random element from the state and change it into another random element. Unlike hill climbing which used single, single shifts, this is a single, random shift."
     ]
    },
    {
     "cell_type": "code",
     "collapsed": false,
     "input": [
      "def mutate(child):\n",
      "    pos = np.random.randint(0, len(child))\n",
      "    c = [x for x in child]\n",
      "    c[pos] = np.random.choice(key)\n",
      "    log(\"Mutated child: {0}\".format(\"\".join(c)))\n",
      "    return \"\".join(c)"
     ],
     "language": "python",
     "metadata": {},
     "outputs": [],
     "prompt_number": 20
    },
    {
     "cell_type": "markdown",
     "metadata": {},
     "source": [
      "The reproduction function will take two parents and produce two offsprings. There are two probabilities involved:\n",
      "\n",
      "- Probability of reproducing (Pc): if the probability generated is less than the defined value, then offsprings are generated. Else the offsprings are copies of the parents.\n",
      "- Probability of mutation (Pm): if the probability generated is less than the defined value, then each offspring will have a mutation.\n",
      "\n",
      "The crossover function is simply a random position in the state."
     ]
    },
    {
     "cell_type": "code",
     "collapsed": false,
     "input": [
      "def reproduce(parent1, parent2):\n",
      "    if np.random.rand() >= Pc: return parent1, parent2\n",
      "    crossover = np.random.randint(1, len(parent1))\n",
      "    child1 = parent1[:crossover] + parent2[crossover:]\n",
      "    child2 = parent1[crossover:] + parent2[:crossover]\n",
      "    if np.random.rand() < Pm:\n",
      "        child1, child2 = mutate(child1), mutate(child2)\n",
      "    log(\"Reproducing {0} and {1} and got {2}, {3}\".format(parent1, parent2, child1, child2))\n",
      "    return child1, child2"
     ],
     "language": "python",
     "metadata": {},
     "outputs": [],
     "prompt_number": 21
    },
    {
     "cell_type": "markdown",
     "metadata": {},
     "source": [
      "The genetic algorithm will generate an initial population and run for a predefined number of iterations (generations) and outputs the member of the final population that is most like the target. An extra check was added to stop if the target has been reached."
     ]
    },
    {
     "cell_type": "code",
     "collapsed": false,
     "input": [
      "def genetic_algorithm(target, population_size=50, generation_limit=500):\n",
      "    population, generation = generate_initial_population(population_size, len(target)), 0\n",
      "    while generation < generation_limit:\n",
      "        if target in population: break\n",
      "        result, new_population = evaluate_population(population, target), list()\n",
      "        for i in xrange(population_size / 2):\n",
      "            parent1, parent2 = pick_parent(result), pick_parent(result)\n",
      "            child1, child2 = reproduce(parent1, parent2)\n",
      "            new_population.extend([child1, child2])\n",
      "        population, generation = new_population, generation + 1\n",
      "    if target in population: verbose(\"Reached target in {0} generations\".format(generation))\n",
      "    final_population = sorted(evaluate_population(population, target), key=itemgetter(1), reverse=True)\n",
      "    return final_population[0][0]"
     ],
     "language": "python",
     "metadata": {},
     "outputs": [],
     "prompt_number": 22
    },
    {
     "cell_type": "markdown",
     "metadata": {},
     "source": [
      "Some testing for the genetic algorithm"
     ]
    },
    {
     "cell_type": "code",
     "collapsed": false,
     "input": [
      "genetic_algorithm(\"methinks its like a weasel\", population_size=200, generation_limit=1000)"
     ],
     "language": "python",
     "metadata": {},
     "outputs": [
      {
       "output_type": "stream",
       "stream": "stdout",
       "text": [
        "Reached target in 408 generations\n"
       ]
      },
      {
       "metadata": {},
       "output_type": "pyout",
       "prompt_number": 23,
       "text": [
        "'methinks its like a weasel'"
       ]
      }
     ],
     "prompt_number": 23
    },
    {
     "cell_type": "code",
     "collapsed": false,
     "input": [
      "genetic_algorithm(\"i thought i thaw a putty cat\", population_size=200, generation_limit=1000)"
     ],
     "language": "python",
     "metadata": {},
     "outputs": [
      {
       "output_type": "stream",
       "stream": "stdout",
       "text": [
        "Reached target in 857 generations\n"
       ]
      },
      {
       "metadata": {},
       "output_type": "pyout",
       "prompt_number": 24,
       "text": [
        "'i thought i thaw a putty cat'"
       ]
      }
     ],
     "prompt_number": 24
    },
    {
     "cell_type": "code",
     "collapsed": false,
     "input": [
      "genetic_algorithm(\"beam me up scotty\", population_size=150, generation_limit=1000)"
     ],
     "language": "python",
     "metadata": {},
     "outputs": [
      {
       "output_type": "stream",
       "stream": "stdout",
       "text": [
        "Reached target in 428 generations\n"
       ]
      },
      {
       "metadata": {},
       "output_type": "pyout",
       "prompt_number": 25,
       "text": [
        "'beam me up scotty'"
       ]
      }
     ],
     "prompt_number": 25
    },
    {
     "cell_type": "code",
     "collapsed": false,
     "input": [
      "genetic_algorithm(\"artificial intelligence is fun\", population_size=200, generation_limit=1000)"
     ],
     "language": "python",
     "metadata": {},
     "outputs": [
      {
       "output_type": "stream",
       "stream": "stdout",
       "text": [
        "Reached target in 682 generations\n"
       ]
      },
      {
       "metadata": {},
       "output_type": "pyout",
       "prompt_number": 26,
       "text": [
        "'artificial intelligence is fun'"
       ]
      }
     ],
     "prompt_number": 26
    },
    {
     "cell_type": "markdown",
     "metadata": {},
     "source": [
      "###Summary"
     ]
    },
    {
     "cell_type": "markdown",
     "metadata": {},
     "source": [
      "Hill climbing seems like a pretty straightforward algorithm, especially when using schotastic successor generations. As long as our fitness function is well defined the algorithm will always reach its target. The one downside to the algorithm implemented above is that generating single random successor states can result in generating a state that moves away from the target state instead of closer.\n",
      "\n",
      "It should be possible to make schotastic successor generation smarter. For instance, we can compare each element of the state and determine which ones actually need to be changed. We can modify the probability distribution to match the fitness curve generated in order to generate better successors. The problem though is that we're slowly moving away from schotastic generation if we do. I feel like there is a balance between the two approaches though.\n",
      "\n",
      "Genetic algorithm, on the other hand, is pretty fascinating. It largely depends on these variables:\n",
      "\n",
      "- Probability of reproduction\n",
      "- Probability of mutation\n",
      "- Tournament selection size\n",
      "- Crossover function\n",
      "- Population size\n",
      "- Iteration limit\n",
      "\n",
      "The probablites, sizes and limits should be self-explanatory. Higher values will always lead to better results. There is probably a tradeoff between iteration limit and population size although I would weigh heavier on population size first.\n",
      "\n",
      "The crossover function is one that needs special attenation. The algorithm implemented above used a random crossover position to generate the offspring but I feel that this could be done better. For instance, would it not be better to generate a crossover value that takes into account the fitness of the state? Rather than be random, we could select a position around a group of elements that have a high fitness value. This would require calculating which group of elements have the better fitness function; not only that, what comprises \"better\"? This comparison is O(n^2) which can be very expensive."
     ]
    },
    {
     "cell_type": "code",
     "collapsed": false,
     "input": [],
     "language": "python",
     "metadata": {},
     "outputs": [],
     "prompt_number": 26
    }
   ],
   "metadata": {}
  }
 ]
}